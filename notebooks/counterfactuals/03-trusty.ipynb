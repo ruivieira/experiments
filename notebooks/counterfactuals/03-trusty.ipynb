{
 "cells": [
  {
   "cell_type": "markdown",
   "metadata": {},
   "source": [
    "# TrustyAI\n",
    "\n",
    "## Load data"
   ]
  },
  {
   "cell_type": "code",
   "execution_count": 1,
   "metadata": {},
   "outputs": [],
   "source": [
    "import warnings\n",
    "warnings.filterwarnings('ignore')"
   ]
  },
  {
   "cell_type": "code",
   "execution_count": 2,
   "metadata": {
    "tags": []
   },
   "outputs": [],
   "source": [
    "import pandas as pd\n",
    "\n",
    "df = pd.read_csv(\"../../datasets/FICO/heloc_dataset_v1.csv\")"
   ]
  },
  {
   "cell_type": "code",
   "execution_count": 3,
   "metadata": {},
   "outputs": [],
   "source": [
    "import utils\n",
    "\n",
    "bounds = utils.data_bounds(df)"
   ]
  },
  {
   "cell_type": "markdown",
   "metadata": {},
   "source": [
    "## Initialise TrustyAI"
   ]
  },
  {
   "cell_type": "code",
   "execution_count": 4,
   "metadata": {},
   "outputs": [],
   "source": [
    "import trustyai\n",
    "import os\n",
    "import site\n",
    "\n",
    "DEFAULT_DEP_PATH = os.path.join(site.getsitepackages()[0], \"trustyai\", \"dep\")\n",
    "\n",
    "CORE_DEPS = [\n",
    "    f\"../../deps/*\",\n",
    "    f\"{DEFAULT_DEP_PATH}/org/slf4j/slf4j-api/1.7.30/slf4j-api-1.7.30.jar\",\n",
    "    f\"{DEFAULT_DEP_PATH}/org/apache/commons/commons-lang3/3.12.0/commons-lang3-3.12.0.jar\",\n",
    "    f\"{DEFAULT_DEP_PATH}/org/optaplanner/optaplanner-core-impl/8.18.0.Final/\"\n",
    "    f\"optaplanner-core-impl-8.18.0.Final.jar\",\n",
    "    f\"{DEFAULT_DEP_PATH}/org/apache/commons/commons-math3/3.6.1/commons-math3-3.6.1.jar\",\n",
    "    f\"{DEFAULT_DEP_PATH}/org/kie/kie-api/8.18.0.Beta/kie-api-8.18.0.Beta.jar\",\n",
    "    f\"{DEFAULT_DEP_PATH}/io/micrometer/micrometer-core/1.8.2/micrometer-core-1.8.2.jar\",\n",
    "]\n",
    "\n",
    "trustyai.init(path=CORE_DEPS)"
   ]
  },
  {
   "cell_type": "markdown",
   "metadata": {},
   "source": [
    "## XGBoost\n",
    "\n",
    "### Load model"
   ]
  },
  {
   "cell_type": "code",
   "execution_count": 5,
   "metadata": {},
   "outputs": [],
   "source": [
    "from xgboost.sklearn import XGBClassifier\n",
    "\n",
    "model = XGBClassifier()"
   ]
  },
  {
   "cell_type": "code",
   "execution_count": 6,
   "metadata": {},
   "outputs": [],
   "source": [
    "model.load_model(\"../../models/xgboost.json\")"
   ]
  },
  {
   "cell_type": "markdown",
   "metadata": {},
   "source": [
    "### Selecting inputs"
   ]
  },
  {
   "cell_type": "markdown",
   "metadata": {},
   "source": [
    "Select the input $X$ with a probability of negative outcome closest to $75\\%$."
   ]
  },
  {
   "cell_type": "code",
   "execution_count": 7,
   "metadata": {},
   "outputs": [],
   "source": [
    "X = utils.get_negative_closest(model, 0.75)"
   ]
  },
  {
   "cell_type": "code",
   "execution_count": 8,
   "metadata": {},
   "outputs": [
    {
     "data": {
      "text/plain": [
       "{'ExternalRiskEstimate': 65,\n",
       " 'MSinceOldestTradeOpen': 43,\n",
       " 'MSinceMostRecentTradeOpen': 2,\n",
       " 'AverageMInFile': 26,\n",
       " 'NumSatisfactoryTrades': 15,\n",
       " 'NumTrades60Ever2DerogPubRec': 1,\n",
       " 'NumTrades90Ever2DerogPubRec': 1,\n",
       " 'PercentTradesNeverDelq': 100,\n",
       " 'MSinceMostRecentDelq': -7,\n",
       " 'MaxDelq2PublicRecLast12M': 7,\n",
       " 'MaxDelqEver': 8,\n",
       " 'NumTotalTrades': 17,\n",
       " 'NumTradesOpeninLast12M': 2,\n",
       " 'PercentInstallTrades': 25,\n",
       " 'MSinceMostRecentInqexcl7days': 0,\n",
       " 'NumInqLast6M': 4,\n",
       " 'NumInqLast6Mexcl7days': 4,\n",
       " 'NetFractionRevolvingBurden': 31,\n",
       " 'NetFractionInstallBurden': 83,\n",
       " 'NumRevolvingTradesWBalance': 5,\n",
       " 'NumInstallTradesWBalance': 1,\n",
       " 'NumBank2NatlTradesWHighUtilization': 0,\n",
       " 'PercentTradesWBalance': 75}"
      ]
     },
     "execution_count": 8,
     "metadata": {},
     "output_type": "execute_result"
    }
   ],
   "source": [
    "X.to_dict()"
   ]
  },
  {
   "cell_type": "markdown",
   "metadata": {},
   "source": [
    "Check the model's output for $X$"
   ]
  },
  {
   "cell_type": "code",
   "execution_count": 9,
   "metadata": {},
   "outputs": [
    {
     "data": {
      "text/plain": [
       "array([[0.7499573 , 0.25004265]], dtype=float32)"
      ]
     },
     "execution_count": 9,
     "metadata": {},
     "output_type": "execute_result"
    }
   ],
   "source": [
    "model.predict_proba(X.to_numpy().reshape(1, -1))"
   ]
  },
  {
   "cell_type": "markdown",
   "metadata": {},
   "source": [
    "TrustyAI wrapper for the XGBoost model"
   ]
  },
  {
   "cell_type": "code",
   "execution_count": 10,
   "metadata": {},
   "outputs": [],
   "source": [
    "from org.kie.kogito.explainability.model import PredictionInput, PredictionOutput\n",
    "from trustyai.model import output\n",
    "import numpy as np\n",
    "\n",
    "TARGET = \"RiskPerformance\"\n",
    "\n",
    "def predict(inputs):\n",
    "    values = [_feature.value.as_number() for _feature in inputs[0].features]\n",
    "    result = model.predict_proba(np.array([values]))\n",
    "    bad_prob, good_prob = result[0]\n",
    "    if bad_prob > good_prob:\n",
    "        _prediction = (0, bad_prob)\n",
    "    else:\n",
    "        _prediction = (1, good_prob)\n",
    "    _output = output(name=TARGET, dtype=\"number\", value=_prediction[0], score=_prediction[1])\n",
    "    return [PredictionOutput([_output])]"
   ]
  },
  {
   "cell_type": "code",
   "execution_count": 11,
   "metadata": {},
   "outputs": [],
   "source": [
    "from trustyai.model import Model\n",
    "\n",
    "provider = Model(predict)"
   ]
  },
  {
   "cell_type": "markdown",
   "metadata": {},
   "source": [
    "Build input features with a fixed search bound of $[-20, 1000]$"
   ]
  },
  {
   "cell_type": "code",
   "execution_count": 12,
   "metadata": {},
   "outputs": [],
   "source": [
    "from trustyai.model import feature\n",
    "\n",
    "input_feature = []\n",
    "input_dict = X.to_dict()\n",
    "for name in input_dict:\n",
    "    input_feature.append(\n",
    "        feature(name=name, value=input_dict[name], dtype=\"number\",\n",
    "                domain=(-20, 1000))\n",
    "    )"
   ]
  },
  {
   "cell_type": "code",
   "execution_count": 13,
   "metadata": {},
   "outputs": [
    {
     "data": {
      "text/plain": [
       "'Output{value=0, type=number, score=0.7499573230743408, name='RiskPerformance'}'"
      ]
     },
     "execution_count": 13,
     "metadata": {},
     "output_type": "execute_result"
    }
   ],
   "source": [
    "predict([PredictionInput(input_feature)])[0].outputs.get(0).toString()"
   ]
  },
  {
   "cell_type": "markdown",
   "metadata": {},
   "source": [
    "Define the counterfactual goal as the label `1` (\"Good\" assessment)"
   ]
  },
  {
   "cell_type": "code",
   "execution_count": 14,
   "metadata": {},
   "outputs": [],
   "source": [
    "goal = [output(name=TARGET, dtype=\"number\", value=1)]"
   ]
  },
  {
   "cell_type": "code",
   "execution_count": 15,
   "metadata": {},
   "outputs": [
    {
     "data": {
      "text/plain": [
       "'Output{value=1, type=number, score=1.0, name='RiskPerformance'}'"
      ]
     },
     "execution_count": 15,
     "metadata": {},
     "output_type": "execute_result"
    }
   ],
   "source": [
    "goal[0].toString()"
   ]
  },
  {
   "cell_type": "code",
   "execution_count": 16,
   "metadata": {},
   "outputs": [],
   "source": [
    "from trustyai.model import counterfactual_prediction\n",
    "\n",
    "prediction = counterfactual_prediction(\n",
    "    input_features=input_feature,\n",
    "    outputs=goal)"
   ]
  },
  {
   "cell_type": "markdown",
   "metadata": {},
   "source": [
    "Create the explainer with a maximum of $100,000$ iterations."
   ]
  },
  {
   "cell_type": "code",
   "execution_count": 17,
   "metadata": {},
   "outputs": [
    {
     "name": "stderr",
     "output_type": "stream",
     "text": [
      "Bad value in file '/Users/rui/.matplotlib/matplotlibrc', line 1 ('backend: inline'): Key backend: 'inline' is not a valid value for backend; supported values are ['GTK3Agg', 'GTK3Cairo', 'GTK4Agg', 'GTK4Cairo', 'MacOSX', 'nbAgg', 'QtAgg', 'QtCairo', 'Qt5Agg', 'Qt5Cairo', 'TkAgg', 'TkCairo', 'WebAgg', 'WX', 'WXAgg', 'WXCairo', 'agg', 'cairo', 'pdf', 'pgf', 'ps', 'svg', 'template']\n",
      "SLF4J: Failed to load class \"org.slf4j.impl.StaticLoggerBinder\".\n",
      "SLF4J: Defaulting to no-operation (NOP) logger implementation\n",
      "SLF4J: See http://www.slf4j.org/codes.html#StaticLoggerBinder for further details.\n"
     ]
    }
   ],
   "source": [
    "from trustyai.explainers import CounterfactualExplainer\n",
    "\n",
    "explainer = CounterfactualExplainer(steps=100_000)"
   ]
  },
  {
   "cell_type": "markdown",
   "metadata": {},
   "source": [
    "Run the explainer"
   ]
  },
  {
   "cell_type": "code",
   "execution_count": 18,
   "metadata": {},
   "outputs": [
    {
     "name": "stdout",
     "output_type": "stream",
     "text": [
      "CPU times: user 10min 24s, sys: 22min 52s, total: 33min 17s\n",
      "Wall time: 3min 54s\n"
     ]
    }
   ],
   "source": [
    "%%time\n",
    "\n",
    "explanation = explainer.explain(prediction, provider)"
   ]
  },
  {
   "cell_type": "markdown",
   "metadata": {},
   "source": [
    "Extract the features from the counterfactual explanation"
   ]
  },
  {
   "cell_type": "code",
   "execution_count": 19,
   "metadata": {},
   "outputs": [],
   "source": [
    "expl_features = [e.asFeature() for e in explanation.entities]"
   ]
  },
  {
   "cell_type": "code",
   "execution_count": 26,
   "metadata": {},
   "outputs": [
    {
     "name": "stdout",
     "output_type": "stream",
     "text": [
      "{'GoalValue': [1.0], 'GoalName': ['RiskPerformance'], 'GoalScore': [0.557973325252533]}\n"
     ]
    }
   ],
   "source": [
    "cf_p = predict([PredictionInput(expl_features)])[0].outputs.get(0)\n",
    "cf_p = {\n",
    "    \"GoalValue\": [cf_p.getValue().asNumber()],\n",
    "    \"GoalName\": [str(cf_p.getName())],\n",
    "    \"GoalScore\": [cf_p.getScore()],\n",
    "}\n",
    "print(cf_p)"
   ]
  },
  {
   "cell_type": "code",
   "execution_count": 27,
   "metadata": {},
   "outputs": [
    {
     "name": "stdout",
     "output_type": "stream",
     "text": [
      "Feature 'NumTrades60Ever2DerogPubRec': 1.0 -> 0.0\n",
      "Feature 'MaxDelq2PublicRecLast12M': 7.0 -> 6.0\n",
      "Feature 'MSinceMostRecentInqexcl7days': 0.0 -> -8.0\n",
      "Feature 'NetFractionRevolvingBurden': 31.0 -> 32.0\n",
      "Feature 'NumRevolvingTradesWBalance': 5.0 -> 4.0\n",
      "Feature 'NumInstallTradesWBalance': 1.0 -> 2.0\n",
      "Feature 'NumBank2NatlTradesWHighUtilization': 0.0 -> 1.0\n",
      "Feature 'PercentTradesWBalance': 75.0 -> 76.0\n"
     ]
    }
   ],
   "source": [
    "def show_changes(explanation, original):\n",
    "    entities = explanation.entities\n",
    "    N = len(original)\n",
    "    for i in range(N):\n",
    "        name = original[i].name\n",
    "        original_value = original[i].value.as_number()\n",
    "        new_value = entities[i].as_feature().value.as_number()\n",
    "        if original_value != new_value:\n",
    "            print(f\"Feature '{name}': {original_value} -> {new_value}\")\n",
    "\n",
    "\n",
    "show_changes(explanation, input_feature)"
   ]
  },
  {
   "cell_type": "code",
   "execution_count": 28,
   "metadata": {},
   "outputs": [],
   "source": [
    "d_cf = {f\"Cf{f.name}\": [f.value.as_number()] for f in expl_features}"
   ]
  },
  {
   "cell_type": "code",
   "execution_count": 29,
   "metadata": {},
   "outputs": [
    {
     "data": {
      "text/html": [
       "<div>\n",
       "<style scoped>\n",
       "    .dataframe tbody tr th:only-of-type {\n",
       "        vertical-align: middle;\n",
       "    }\n",
       "\n",
       "    .dataframe tbody tr th {\n",
       "        vertical-align: top;\n",
       "    }\n",
       "\n",
       "    .dataframe thead th {\n",
       "        text-align: right;\n",
       "    }\n",
       "</style>\n",
       "<table border=\"1\" class=\"dataframe\">\n",
       "  <thead>\n",
       "    <tr style=\"text-align: right;\">\n",
       "      <th></th>\n",
       "      <th>0</th>\n",
       "    </tr>\n",
       "  </thead>\n",
       "  <tbody>\n",
       "    <tr>\n",
       "      <th>ExternalRiskEstimate</th>\n",
       "      <td>65</td>\n",
       "    </tr>\n",
       "    <tr>\n",
       "      <th>MSinceOldestTradeOpen</th>\n",
       "      <td>43</td>\n",
       "    </tr>\n",
       "    <tr>\n",
       "      <th>MSinceMostRecentTradeOpen</th>\n",
       "      <td>2</td>\n",
       "    </tr>\n",
       "    <tr>\n",
       "      <th>AverageMInFile</th>\n",
       "      <td>26</td>\n",
       "    </tr>\n",
       "    <tr>\n",
       "      <th>NumSatisfactoryTrades</th>\n",
       "      <td>15</td>\n",
       "    </tr>\n",
       "    <tr>\n",
       "      <th>NumTrades60Ever2DerogPubRec</th>\n",
       "      <td>1</td>\n",
       "    </tr>\n",
       "    <tr>\n",
       "      <th>NumTrades90Ever2DerogPubRec</th>\n",
       "      <td>1</td>\n",
       "    </tr>\n",
       "    <tr>\n",
       "      <th>PercentTradesNeverDelq</th>\n",
       "      <td>100</td>\n",
       "    </tr>\n",
       "    <tr>\n",
       "      <th>MSinceMostRecentDelq</th>\n",
       "      <td>-7</td>\n",
       "    </tr>\n",
       "    <tr>\n",
       "      <th>MaxDelq2PublicRecLast12M</th>\n",
       "      <td>7</td>\n",
       "    </tr>\n",
       "    <tr>\n",
       "      <th>MaxDelqEver</th>\n",
       "      <td>8</td>\n",
       "    </tr>\n",
       "    <tr>\n",
       "      <th>NumTotalTrades</th>\n",
       "      <td>17</td>\n",
       "    </tr>\n",
       "    <tr>\n",
       "      <th>NumTradesOpeninLast12M</th>\n",
       "      <td>2</td>\n",
       "    </tr>\n",
       "    <tr>\n",
       "      <th>PercentInstallTrades</th>\n",
       "      <td>25</td>\n",
       "    </tr>\n",
       "    <tr>\n",
       "      <th>MSinceMostRecentInqexcl7days</th>\n",
       "      <td>0</td>\n",
       "    </tr>\n",
       "    <tr>\n",
       "      <th>NumInqLast6M</th>\n",
       "      <td>4</td>\n",
       "    </tr>\n",
       "    <tr>\n",
       "      <th>NumInqLast6Mexcl7days</th>\n",
       "      <td>4</td>\n",
       "    </tr>\n",
       "    <tr>\n",
       "      <th>NetFractionRevolvingBurden</th>\n",
       "      <td>31</td>\n",
       "    </tr>\n",
       "    <tr>\n",
       "      <th>NetFractionInstallBurden</th>\n",
       "      <td>83</td>\n",
       "    </tr>\n",
       "    <tr>\n",
       "      <th>NumRevolvingTradesWBalance</th>\n",
       "      <td>5</td>\n",
       "    </tr>\n",
       "    <tr>\n",
       "      <th>NumInstallTradesWBalance</th>\n",
       "      <td>1</td>\n",
       "    </tr>\n",
       "    <tr>\n",
       "      <th>NumBank2NatlTradesWHighUtilization</th>\n",
       "      <td>0</td>\n",
       "    </tr>\n",
       "    <tr>\n",
       "      <th>PercentTradesWBalance</th>\n",
       "      <td>75</td>\n",
       "    </tr>\n",
       "    <tr>\n",
       "      <th>CfExternalRiskEstimate</th>\n",
       "      <td>65.0</td>\n",
       "    </tr>\n",
       "    <tr>\n",
       "      <th>CfMSinceOldestTradeOpen</th>\n",
       "      <td>43.0</td>\n",
       "    </tr>\n",
       "    <tr>\n",
       "      <th>CfMSinceMostRecentTradeOpen</th>\n",
       "      <td>2.0</td>\n",
       "    </tr>\n",
       "    <tr>\n",
       "      <th>CfAverageMInFile</th>\n",
       "      <td>26.0</td>\n",
       "    </tr>\n",
       "    <tr>\n",
       "      <th>CfNumSatisfactoryTrades</th>\n",
       "      <td>15.0</td>\n",
       "    </tr>\n",
       "    <tr>\n",
       "      <th>CfNumTrades60Ever2DerogPubRec</th>\n",
       "      <td>0.0</td>\n",
       "    </tr>\n",
       "    <tr>\n",
       "      <th>CfNumTrades90Ever2DerogPubRec</th>\n",
       "      <td>1.0</td>\n",
       "    </tr>\n",
       "    <tr>\n",
       "      <th>CfPercentTradesNeverDelq</th>\n",
       "      <td>100.0</td>\n",
       "    </tr>\n",
       "    <tr>\n",
       "      <th>CfMSinceMostRecentDelq</th>\n",
       "      <td>-7.0</td>\n",
       "    </tr>\n",
       "    <tr>\n",
       "      <th>CfMaxDelq2PublicRecLast12M</th>\n",
       "      <td>6.0</td>\n",
       "    </tr>\n",
       "    <tr>\n",
       "      <th>CfMaxDelqEver</th>\n",
       "      <td>8.0</td>\n",
       "    </tr>\n",
       "    <tr>\n",
       "      <th>CfNumTotalTrades</th>\n",
       "      <td>17.0</td>\n",
       "    </tr>\n",
       "    <tr>\n",
       "      <th>CfNumTradesOpeninLast12M</th>\n",
       "      <td>2.0</td>\n",
       "    </tr>\n",
       "    <tr>\n",
       "      <th>CfPercentInstallTrades</th>\n",
       "      <td>25.0</td>\n",
       "    </tr>\n",
       "    <tr>\n",
       "      <th>CfMSinceMostRecentInqexcl7days</th>\n",
       "      <td>-8.0</td>\n",
       "    </tr>\n",
       "    <tr>\n",
       "      <th>CfNumInqLast6M</th>\n",
       "      <td>4.0</td>\n",
       "    </tr>\n",
       "    <tr>\n",
       "      <th>CfNumInqLast6Mexcl7days</th>\n",
       "      <td>4.0</td>\n",
       "    </tr>\n",
       "    <tr>\n",
       "      <th>CfNetFractionRevolvingBurden</th>\n",
       "      <td>32.0</td>\n",
       "    </tr>\n",
       "    <tr>\n",
       "      <th>CfNetFractionInstallBurden</th>\n",
       "      <td>83.0</td>\n",
       "    </tr>\n",
       "    <tr>\n",
       "      <th>CfNumRevolvingTradesWBalance</th>\n",
       "      <td>4.0</td>\n",
       "    </tr>\n",
       "    <tr>\n",
       "      <th>CfNumInstallTradesWBalance</th>\n",
       "      <td>2.0</td>\n",
       "    </tr>\n",
       "    <tr>\n",
       "      <th>CfNumBank2NatlTradesWHighUtilization</th>\n",
       "      <td>1.0</td>\n",
       "    </tr>\n",
       "    <tr>\n",
       "      <th>CfPercentTradesWBalance</th>\n",
       "      <td>76.0</td>\n",
       "    </tr>\n",
       "    <tr>\n",
       "      <th>GoalValue</th>\n",
       "      <td>1.0</td>\n",
       "    </tr>\n",
       "    <tr>\n",
       "      <th>GoalName</th>\n",
       "      <td>RiskPerformance</td>\n",
       "    </tr>\n",
       "    <tr>\n",
       "      <th>GoalScore</th>\n",
       "      <td>0.557973</td>\n",
       "    </tr>\n",
       "    <tr>\n",
       "      <th>method</th>\n",
       "      <td>TrustyAI</td>\n",
       "    </tr>\n",
       "    <tr>\n",
       "      <th>model</th>\n",
       "      <td>XGBoost</td>\n",
       "    </tr>\n",
       "  </tbody>\n",
       "</table>\n",
       "</div>"
      ],
      "text/plain": [
       "                                                    0\n",
       "ExternalRiskEstimate                               65\n",
       "MSinceOldestTradeOpen                              43\n",
       "MSinceMostRecentTradeOpen                           2\n",
       "AverageMInFile                                     26\n",
       "NumSatisfactoryTrades                              15\n",
       "NumTrades60Ever2DerogPubRec                         1\n",
       "NumTrades90Ever2DerogPubRec                         1\n",
       "PercentTradesNeverDelq                            100\n",
       "MSinceMostRecentDelq                               -7\n",
       "MaxDelq2PublicRecLast12M                            7\n",
       "MaxDelqEver                                         8\n",
       "NumTotalTrades                                     17\n",
       "NumTradesOpeninLast12M                              2\n",
       "PercentInstallTrades                               25\n",
       "MSinceMostRecentInqexcl7days                        0\n",
       "NumInqLast6M                                        4\n",
       "NumInqLast6Mexcl7days                               4\n",
       "NetFractionRevolvingBurden                         31\n",
       "NetFractionInstallBurden                           83\n",
       "NumRevolvingTradesWBalance                          5\n",
       "NumInstallTradesWBalance                            1\n",
       "NumBank2NatlTradesWHighUtilization                  0\n",
       "PercentTradesWBalance                              75\n",
       "CfExternalRiskEstimate                           65.0\n",
       "CfMSinceOldestTradeOpen                          43.0\n",
       "CfMSinceMostRecentTradeOpen                       2.0\n",
       "CfAverageMInFile                                 26.0\n",
       "CfNumSatisfactoryTrades                          15.0\n",
       "CfNumTrades60Ever2DerogPubRec                     0.0\n",
       "CfNumTrades90Ever2DerogPubRec                     1.0\n",
       "CfPercentTradesNeverDelq                        100.0\n",
       "CfMSinceMostRecentDelq                           -7.0\n",
       "CfMaxDelq2PublicRecLast12M                        6.0\n",
       "CfMaxDelqEver                                     8.0\n",
       "CfNumTotalTrades                                 17.0\n",
       "CfNumTradesOpeninLast12M                          2.0\n",
       "CfPercentInstallTrades                           25.0\n",
       "CfMSinceMostRecentInqexcl7days                   -8.0\n",
       "CfNumInqLast6M                                    4.0\n",
       "CfNumInqLast6Mexcl7days                           4.0\n",
       "CfNetFractionRevolvingBurden                     32.0\n",
       "CfNetFractionInstallBurden                       83.0\n",
       "CfNumRevolvingTradesWBalance                      4.0\n",
       "CfNumInstallTradesWBalance                        2.0\n",
       "CfNumBank2NatlTradesWHighUtilization              1.0\n",
       "CfPercentTradesWBalance                          76.0\n",
       "GoalValue                                         1.0\n",
       "GoalName                              RiskPerformance\n",
       "GoalScore                                    0.557973\n",
       "method                                       TrustyAI\n",
       "model                                         XGBoost"
      ]
     },
     "execution_count": 29,
     "metadata": {},
     "output_type": "execute_result"
    }
   ],
   "source": [
    "import utils\n",
    "\n",
    "cf_df = utils.save_result(\n",
    "    original=X, cf=d_cf, score=cf_p, method=[\"TrustyAI\"], model=[\"XGBoost\"]\n",
    ")\n",
    "cf_df.T"
   ]
  },
  {
   "cell_type": "markdown",
   "metadata": {},
   "source": [
    "## MLP/Adam"
   ]
  },
  {
   "cell_type": "code",
   "execution_count": 30,
   "metadata": {},
   "outputs": [],
   "source": [
    "cf_df.to_csv(\"../../results/cf-trustyai.csv\")"
   ]
  },
  {
   "cell_type": "code",
   "execution_count": null,
   "metadata": {},
   "outputs": [],
   "source": []
  }
 ],
 "metadata": {
  "kernelspec": {
   "display_name": "experiments-alibi",
   "language": "python",
   "name": "experiments-alibi"
  },
  "language_info": {
   "codemirror_mode": {
    "name": "ipython",
    "version": 3
   },
   "file_extension": ".py",
   "mimetype": "text/x-python",
   "name": "python",
   "nbconvert_exporter": "python",
   "pygments_lexer": "ipython3",
   "version": "3.7.12"
  }
 },
 "nbformat": 4,
 "nbformat_minor": 4
}
