{
 "cells": [
  {
   "cell_type": "markdown",
   "metadata": {},
   "source": [
    "# TrustyAI\n",
    "\n",
    "## Load data"
   ]
  },
  {
   "cell_type": "code",
   "execution_count": 1,
   "metadata": {},
   "outputs": [],
   "source": [
    "import warnings\n",
    "warnings.filterwarnings('ignore')"
   ]
  },
  {
   "cell_type": "code",
   "execution_count": 2,
   "metadata": {
    "tags": []
   },
   "outputs": [],
   "source": [
    "import pandas as pd\n",
    "\n",
    "df = pd.read_csv(\"../../datasets/FICO/heloc_dataset_v1.csv\")"
   ]
  },
  {
   "cell_type": "code",
   "execution_count": 3,
   "metadata": {},
   "outputs": [],
   "source": [
    "import utils\n",
    "\n",
    "bounds = utils.data_bounds(df)"
   ]
  },
  {
   "cell_type": "markdown",
   "metadata": {},
   "source": [
    "## Initialise TrustyAI"
   ]
  },
  {
   "cell_type": "code",
   "execution_count": 4,
   "metadata": {},
   "outputs": [],
   "source": [
    "import trustyai\n",
    "import os\n",
    "import site\n",
    "\n",
    "DEFAULT_DEP_PATH = os.path.join(site.getsitepackages()[0], \"trustyai\", \"dep\")\n",
    "\n",
    "CORE_DEPS = [\n",
    "    f\"../../deps/*\",\n",
    "    f\"{DEFAULT_DEP_PATH}/org/slf4j/slf4j-api/1.7.30/slf4j-api-1.7.30.jar\",\n",
    "    f\"{DEFAULT_DEP_PATH}/org/apache/commons/commons-lang3/3.12.0/commons-lang3-3.12.0.jar\",\n",
    "    f\"{DEFAULT_DEP_PATH}/org/optaplanner/optaplanner-core-impl/8.18.0.Final/\"\n",
    "    f\"optaplanner-core-impl-8.18.0.Final.jar\",\n",
    "    f\"{DEFAULT_DEP_PATH}/org/apache/commons/commons-math3/3.6.1/commons-math3-3.6.1.jar\",\n",
    "    f\"{DEFAULT_DEP_PATH}/org/kie/kie-api/8.18.0.Beta/kie-api-8.18.0.Beta.jar\",\n",
    "    f\"{DEFAULT_DEP_PATH}/io/micrometer/micrometer-core/1.8.2/micrometer-core-1.8.2.jar\",\n",
    "]\n",
    "\n",
    "trustyai.init(path=CORE_DEPS)"
   ]
  },
  {
   "cell_type": "markdown",
   "metadata": {},
   "source": [
    "## XGBoost\n",
    "\n",
    "### Load model"
   ]
  },
  {
   "cell_type": "code",
   "execution_count": 5,
   "metadata": {},
   "outputs": [],
   "source": [
    "from xgboost.sklearn import XGBClassifier\n",
    "\n",
    "model = XGBClassifier()"
   ]
  },
  {
   "cell_type": "code",
   "execution_count": 6,
   "metadata": {},
   "outputs": [],
   "source": [
    "model.load_model(\"../../models/xgboost.json\")"
   ]
  },
  {
   "cell_type": "markdown",
   "metadata": {},
   "source": [
    "### Selecting inputs"
   ]
  },
  {
   "cell_type": "markdown",
   "metadata": {},
   "source": [
    "Select the input $X$ with a probability of negative outcome closest to $75\\%$."
   ]
  },
  {
   "cell_type": "code",
   "execution_count": 7,
   "metadata": {},
   "outputs": [],
   "source": [
    "X = utils.get_negative_closest(model, 0.75)"
   ]
  },
  {
   "cell_type": "code",
   "execution_count": 8,
   "metadata": {},
   "outputs": [
    {
     "data": {
      "text/plain": [
       "{'ExternalRiskEstimate': 63,\n",
       " 'MSinceOldestTradeOpen': 309,\n",
       " 'MSinceMostRecentTradeOpen': 36,\n",
       " 'AverageMInFile': 112,\n",
       " 'NumSatisfactoryTrades': 17,\n",
       " 'NumTrades60Ever2DerogPubRec': 2,\n",
       " 'NumTrades90Ever2DerogPubRec': 1,\n",
       " 'PercentTradesNeverDelq': 68,\n",
       " 'MSinceMostRecentDelq': 7,\n",
       " 'MaxDelq2PublicRecLast12M': 2,\n",
       " 'MaxDelqEver': 4,\n",
       " 'NumTotalTrades': 19,\n",
       " 'NumTradesOpeninLast12M': 0,\n",
       " 'PercentInstallTrades': 16,\n",
       " 'MSinceMostRecentInqexcl7days': 0,\n",
       " 'NumInqLast6M': 1,\n",
       " 'NumInqLast6Mexcl7days': 1,\n",
       " 'NetFractionRevolvingBurden': 54,\n",
       " 'NetFractionInstallBurden': -8,\n",
       " 'NumRevolvingTradesWBalance': 5,\n",
       " 'NumInstallTradesWBalance': 1,\n",
       " 'NumBank2NatlTradesWHighUtilization': 2,\n",
       " 'PercentTradesWBalance': 67}"
      ]
     },
     "execution_count": 8,
     "metadata": {},
     "output_type": "execute_result"
    }
   ],
   "source": [
    "X.to_dict()"
   ]
  },
  {
   "cell_type": "markdown",
   "metadata": {},
   "source": [
    "Check the model's output for $X$"
   ]
  },
  {
   "cell_type": "code",
   "execution_count": 9,
   "metadata": {},
   "outputs": [
    {
     "data": {
      "text/plain": [
       "array([[0.75024784, 0.24975218]], dtype=float32)"
      ]
     },
     "execution_count": 9,
     "metadata": {},
     "output_type": "execute_result"
    }
   ],
   "source": [
    "model.predict_proba(X.to_numpy().reshape(1, -1))"
   ]
  },
  {
   "cell_type": "markdown",
   "metadata": {},
   "source": [
    "TrustyAI wrapper for the XGBoost model"
   ]
  },
  {
   "cell_type": "code",
   "execution_count": 10,
   "metadata": {},
   "outputs": [],
   "source": [
    "from org.kie.kogito.explainability.model import PredictionInput, PredictionOutput\n",
    "from trustyai.model import output\n",
    "import numpy as np\n",
    "\n",
    "TARGET = \"RiskPerformance\"\n",
    "\n",
    "def predict(_model):\n",
    "    def fun(inputs):\n",
    "        values = [_feature.value.as_number() for _feature in inputs[0].features]\n",
    "        result = _model.predict_proba(np.array([values]))\n",
    "        bad_prob, good_prob = result[0]\n",
    "        if bad_prob > good_prob:\n",
    "            _prediction = (0, bad_prob)\n",
    "        else:\n",
    "            _prediction = (1, good_prob)\n",
    "        _output = output(name=TARGET, dtype=\"number\", value=_prediction[0], score=_prediction[1])\n",
    "        return [PredictionOutput([_output])]\n",
    "    return fun"
   ]
  },
  {
   "cell_type": "code",
   "execution_count": 11,
   "metadata": {},
   "outputs": [],
   "source": [
    "from trustyai.model import Model\n",
    "\n",
    "provider = Model(predict(model))"
   ]
  },
  {
   "cell_type": "markdown",
   "metadata": {},
   "source": [
    "Build input features with a fixed search bound of $[-20, 1000]$"
   ]
  },
  {
   "cell_type": "code",
   "execution_count": 12,
   "metadata": {},
   "outputs": [],
   "source": [
    "from trustyai.model import feature\n",
    "\n",
    "input_feature = []\n",
    "input_dict = X.to_dict()\n",
    "for name in input_dict:\n",
    "    input_feature.append(\n",
    "        feature(name=name, value=input_dict[name], dtype=\"number\",\n",
    "                domain=(-20, 1000))\n",
    "    )"
   ]
  },
  {
   "cell_type": "code",
   "execution_count": 13,
   "metadata": {},
   "outputs": [
    {
     "data": {
      "text/plain": [
       "'Output{value=0, type=number, score=0.7502478361129761, name='RiskPerformance'}'"
      ]
     },
     "execution_count": 13,
     "metadata": {},
     "output_type": "execute_result"
    }
   ],
   "source": [
    "predict(model)([PredictionInput(input_feature)])[0].outputs.get(0).toString()"
   ]
  },
  {
   "cell_type": "markdown",
   "metadata": {},
   "source": [
    "Define the counterfactual goal as the label `1` (\"Good\" assessment)"
   ]
  },
  {
   "cell_type": "code",
   "execution_count": 14,
   "metadata": {},
   "outputs": [],
   "source": [
    "goal = [output(name=TARGET, dtype=\"number\", value=1)]"
   ]
  },
  {
   "cell_type": "code",
   "execution_count": 15,
   "metadata": {},
   "outputs": [
    {
     "data": {
      "text/plain": [
       "'Output{value=1, type=number, score=1.0, name='RiskPerformance'}'"
      ]
     },
     "execution_count": 15,
     "metadata": {},
     "output_type": "execute_result"
    }
   ],
   "source": [
    "goal[0].toString()"
   ]
  },
  {
   "cell_type": "code",
   "execution_count": 16,
   "metadata": {},
   "outputs": [],
   "source": [
    "from trustyai.model import counterfactual_prediction\n",
    "\n",
    "prediction = counterfactual_prediction(\n",
    "    input_features=input_feature,\n",
    "    outputs=goal)"
   ]
  },
  {
   "cell_type": "markdown",
   "metadata": {},
   "source": [
    "Create the explainer with a maximum of $100,000$ iterations."
   ]
  },
  {
   "cell_type": "code",
   "execution_count": 19,
   "metadata": {},
   "outputs": [],
   "source": [
    "from trustyai.explainers import CounterfactualExplainer\n",
    "\n",
    "explainer = CounterfactualExplainer(steps=100_000)"
   ]
  },
  {
   "cell_type": "markdown",
   "metadata": {},
   "source": [
    "Run the explainer"
   ]
  },
  {
   "cell_type": "code",
   "execution_count": 20,
   "metadata": {},
   "outputs": [
    {
     "name": "stdout",
     "output_type": "stream",
     "text": [
      "CPU times: user 10min 38s, sys: 21min 54s, total: 32min 32s\n",
      "Wall time: 3min 35s\n"
     ]
    }
   ],
   "source": [
    "%%time\n",
    "\n",
    "explanation = explainer.explain(prediction, provider)"
   ]
  },
  {
   "cell_type": "markdown",
   "metadata": {},
   "source": [
    "Extract the features from the counterfactual explanation"
   ]
  },
  {
   "cell_type": "code",
   "execution_count": 21,
   "metadata": {},
   "outputs": [],
   "source": [
    "expl_features = [e.asFeature() for e in explanation.entities]"
   ]
  },
  {
   "cell_type": "code",
   "execution_count": 22,
   "metadata": {},
   "outputs": [
    {
     "name": "stdout",
     "output_type": "stream",
     "text": [
      "{'GoalValue': [1.0], 'GoalName': ['RiskPerformance'], 'GoalScore': [0.5726234912872314]}\n"
     ]
    }
   ],
   "source": [
    "cf_p = predict(model)([PredictionInput(expl_features)])[0].outputs.get(0)\n",
    "cf_p = {\n",
    "    \"GoalValue\": [cf_p.getValue().asNumber()],\n",
    "    \"GoalName\": [str(cf_p.getName())],\n",
    "    \"GoalScore\": [cf_p.getScore()],\n",
    "}\n",
    "print(cf_p)"
   ]
  },
  {
   "cell_type": "code",
   "execution_count": 23,
   "metadata": {},
   "outputs": [
    {
     "name": "stdout",
     "output_type": "stream",
     "text": [
      "Feature 'MaxDelq2PublicRecLast12M': 2.0 -> 3.0\n",
      "Feature 'NumTotalTrades': 19.0 -> 18.0\n",
      "Feature 'PercentInstallTrades': 16.0 -> 15.0\n",
      "Feature 'MSinceMostRecentInqexcl7days': 0.0 -> -8.0\n",
      "Feature 'NetFractionRevolvingBurden': 54.0 -> 55.0\n",
      "Feature 'NetFractionInstallBurden': -8.0 -> -9.0\n",
      "Feature 'NumRevolvingTradesWBalance': 5.0 -> 6.0\n",
      "Feature 'NumInstallTradesWBalance': 1.0 -> 2.0\n"
     ]
    }
   ],
   "source": [
    "def show_changes(explanation, original):\n",
    "    entities = explanation.entities\n",
    "    N = len(original)\n",
    "    for i in range(N):\n",
    "        name = original[i].name\n",
    "        original_value = original[i].value.as_number()\n",
    "        new_value = entities[i].as_feature().value.as_number()\n",
    "        if original_value != new_value:\n",
    "            print(f\"Feature '{name}': {original_value} -> {new_value}\")\n",
    "\n",
    "\n",
    "show_changes(explanation, input_feature)"
   ]
  },
  {
   "cell_type": "code",
   "execution_count": 24,
   "metadata": {},
   "outputs": [],
   "source": [
    "d_cf = {f\"Cf{f.name}\": [f.value.as_number()] for f in expl_features}"
   ]
  },
  {
   "cell_type": "code",
   "execution_count": null,
   "metadata": {},
   "outputs": [],
   "source": [
    "import utils\n",
    "\n",
    "cf_df = utils.save_result(\n",
    "    original=X, cf=d_cf, score=cf_p, method=[\"TrustyAI\"], model=[\"XGBoost\"]\n",
    ")"
   ]
  },
  {
   "cell_type": "markdown",
   "metadata": {},
   "source": [
    "## MLP/Adam"
   ]
  },
  {
   "cell_type": "markdown",
   "metadata": {},
   "source": [
    "### Load model"
   ]
  },
  {
   "cell_type": "code",
   "execution_count": 26,
   "metadata": {},
   "outputs": [],
   "source": [
    "from joblib import load\n",
    "\n",
    "mlp_model = load('../../models/mlp.joblib') "
   ]
  },
  {
   "cell_type": "code",
   "execution_count": 27,
   "metadata": {},
   "outputs": [],
   "source": [
    "mlp_predict = predict(mlp_model)"
   ]
  },
  {
   "cell_type": "code",
   "execution_count": 28,
   "metadata": {},
   "outputs": [
    {
     "data": {
      "text/plain": [
       "'Output{value=0, type=number, score=0.7968092578961794, name='RiskPerformance'}'"
      ]
     },
     "execution_count": 28,
     "metadata": {},
     "output_type": "execute_result"
    }
   ],
   "source": [
    "mlp_predict([PredictionInput(input_feature)])[0].outputs.get(0).toString()"
   ]
  },
  {
   "cell_type": "code",
   "execution_count": 29,
   "metadata": {},
   "outputs": [
    {
     "data": {
      "text/plain": [
       "array([[0.79680926, 0.20319074]])"
      ]
     },
     "execution_count": 29,
     "metadata": {},
     "output_type": "execute_result"
    }
   ],
   "source": [
    "mlp_model.predict_proba(X.to_numpy().reshape(1, -1))"
   ]
  },
  {
   "cell_type": "code",
   "execution_count": 30,
   "metadata": {},
   "outputs": [],
   "source": [
    "mlp_provider = Model(mlp_predict)"
   ]
  },
  {
   "cell_type": "code",
   "execution_count": 31,
   "metadata": {},
   "outputs": [
    {
     "name": "stdout",
     "output_type": "stream",
     "text": [
      "CPU times: user 5min, sys: 50.8 s, total: 5min 50s\n",
      "Wall time: 59.7 s\n"
     ]
    }
   ],
   "source": [
    "%%time\n",
    "\n",
    "explanation = explainer.explain(prediction, mlp_provider)"
   ]
  },
  {
   "cell_type": "code",
   "execution_count": 32,
   "metadata": {},
   "outputs": [],
   "source": [
    "expl_features = [e.asFeature() for e in explanation.entities]"
   ]
  },
  {
   "cell_type": "code",
   "execution_count": 33,
   "metadata": {},
   "outputs": [
    {
     "name": "stdout",
     "output_type": "stream",
     "text": [
      "{'GoalValue': [1.0], 'GoalName': ['RiskPerformance'], 'GoalScore': [0.506854441366209]}\n"
     ]
    }
   ],
   "source": [
    "cf_p = mlp_predict([PredictionInput(expl_features)])[0].outputs.get(0)\n",
    "cf_p = {\n",
    "    \"GoalValue\": [cf_p.getValue().asNumber()],\n",
    "    \"GoalName\": [str(cf_p.getName())],\n",
    "    \"GoalScore\": [cf_p.getScore()],\n",
    "}\n",
    "print(cf_p)"
   ]
  },
  {
   "cell_type": "code",
   "execution_count": 34,
   "metadata": {},
   "outputs": [
    {
     "name": "stdout",
     "output_type": "stream",
     "text": [
      "Feature 'AverageMInFile': 112.0 -> 113.0\n",
      "Feature 'NumTrades60Ever2DerogPubRec': 2.0 -> 1.0\n",
      "Feature 'PercentTradesNeverDelq': 68.0 -> 69.0\n",
      "Feature 'MaxDelq2PublicRecLast12M': 2.0 -> 17.0\n",
      "Feature 'NumRevolvingTradesWBalance': 5.0 -> 6.0\n",
      "Feature 'NumInstallTradesWBalance': 1.0 -> 2.0\n",
      "Feature 'NumBank2NatlTradesWHighUtilization': 2.0 -> 1.0\n",
      "Feature 'PercentTradesWBalance': 67.0 -> 68.0\n"
     ]
    }
   ],
   "source": [
    "show_changes(explanation, input_feature)"
   ]
  },
  {
   "cell_type": "code",
   "execution_count": 35,
   "metadata": {},
   "outputs": [],
   "source": [
    "d_cf = {f\"Cf{f.name}\": [f.value.as_number()] for f in expl_features}"
   ]
  },
  {
   "cell_type": "code",
   "execution_count": null,
   "metadata": {},
   "outputs": [],
   "source": [
    "cf_mlp_df = utils.save_result(\n",
    "    original=X, cf=d_cf, score=cf_p, method=[\"TrustyAI\"], model=[\"MLP\"]\n",
    ")"
   ]
  },
  {
   "cell_type": "code",
   "execution_count": 39,
   "metadata": {},
   "outputs": [
    {
     "data": {
      "text/html": [
       "<div>\n",
       "<style scoped>\n",
       "    .dataframe tbody tr th:only-of-type {\n",
       "        vertical-align: middle;\n",
       "    }\n",
       "\n",
       "    .dataframe tbody tr th {\n",
       "        vertical-align: top;\n",
       "    }\n",
       "\n",
       "    .dataframe thead th {\n",
       "        text-align: right;\n",
       "    }\n",
       "</style>\n",
       "<table border=\"1\" class=\"dataframe\">\n",
       "  <thead>\n",
       "    <tr style=\"text-align: right;\">\n",
       "      <th></th>\n",
       "      <th>0</th>\n",
       "      <th>0</th>\n",
       "    </tr>\n",
       "  </thead>\n",
       "  <tbody>\n",
       "    <tr>\n",
       "      <th>ExternalRiskEstimate</th>\n",
       "      <td>63</td>\n",
       "      <td>63</td>\n",
       "    </tr>\n",
       "    <tr>\n",
       "      <th>MSinceOldestTradeOpen</th>\n",
       "      <td>309</td>\n",
       "      <td>309</td>\n",
       "    </tr>\n",
       "    <tr>\n",
       "      <th>MSinceMostRecentTradeOpen</th>\n",
       "      <td>36</td>\n",
       "      <td>36</td>\n",
       "    </tr>\n",
       "    <tr>\n",
       "      <th>AverageMInFile</th>\n",
       "      <td>112</td>\n",
       "      <td>112</td>\n",
       "    </tr>\n",
       "    <tr>\n",
       "      <th>NumSatisfactoryTrades</th>\n",
       "      <td>17</td>\n",
       "      <td>17</td>\n",
       "    </tr>\n",
       "    <tr>\n",
       "      <th>NumTrades60Ever2DerogPubRec</th>\n",
       "      <td>2</td>\n",
       "      <td>2</td>\n",
       "    </tr>\n",
       "    <tr>\n",
       "      <th>NumTrades90Ever2DerogPubRec</th>\n",
       "      <td>1</td>\n",
       "      <td>1</td>\n",
       "    </tr>\n",
       "    <tr>\n",
       "      <th>PercentTradesNeverDelq</th>\n",
       "      <td>68</td>\n",
       "      <td>68</td>\n",
       "    </tr>\n",
       "    <tr>\n",
       "      <th>MSinceMostRecentDelq</th>\n",
       "      <td>7</td>\n",
       "      <td>7</td>\n",
       "    </tr>\n",
       "    <tr>\n",
       "      <th>MaxDelq2PublicRecLast12M</th>\n",
       "      <td>2</td>\n",
       "      <td>2</td>\n",
       "    </tr>\n",
       "    <tr>\n",
       "      <th>MaxDelqEver</th>\n",
       "      <td>4</td>\n",
       "      <td>4</td>\n",
       "    </tr>\n",
       "    <tr>\n",
       "      <th>NumTotalTrades</th>\n",
       "      <td>19</td>\n",
       "      <td>19</td>\n",
       "    </tr>\n",
       "    <tr>\n",
       "      <th>NumTradesOpeninLast12M</th>\n",
       "      <td>0</td>\n",
       "      <td>0</td>\n",
       "    </tr>\n",
       "    <tr>\n",
       "      <th>PercentInstallTrades</th>\n",
       "      <td>16</td>\n",
       "      <td>16</td>\n",
       "    </tr>\n",
       "    <tr>\n",
       "      <th>MSinceMostRecentInqexcl7days</th>\n",
       "      <td>0</td>\n",
       "      <td>0</td>\n",
       "    </tr>\n",
       "    <tr>\n",
       "      <th>NumInqLast6M</th>\n",
       "      <td>1</td>\n",
       "      <td>1</td>\n",
       "    </tr>\n",
       "    <tr>\n",
       "      <th>NumInqLast6Mexcl7days</th>\n",
       "      <td>1</td>\n",
       "      <td>1</td>\n",
       "    </tr>\n",
       "    <tr>\n",
       "      <th>NetFractionRevolvingBurden</th>\n",
       "      <td>54</td>\n",
       "      <td>54</td>\n",
       "    </tr>\n",
       "    <tr>\n",
       "      <th>NetFractionInstallBurden</th>\n",
       "      <td>-8</td>\n",
       "      <td>-8</td>\n",
       "    </tr>\n",
       "    <tr>\n",
       "      <th>NumRevolvingTradesWBalance</th>\n",
       "      <td>5</td>\n",
       "      <td>5</td>\n",
       "    </tr>\n",
       "    <tr>\n",
       "      <th>NumInstallTradesWBalance</th>\n",
       "      <td>1</td>\n",
       "      <td>1</td>\n",
       "    </tr>\n",
       "    <tr>\n",
       "      <th>NumBank2NatlTradesWHighUtilization</th>\n",
       "      <td>2</td>\n",
       "      <td>2</td>\n",
       "    </tr>\n",
       "    <tr>\n",
       "      <th>PercentTradesWBalance</th>\n",
       "      <td>67</td>\n",
       "      <td>67</td>\n",
       "    </tr>\n",
       "    <tr>\n",
       "      <th>CfExternalRiskEstimate</th>\n",
       "      <td>63.0</td>\n",
       "      <td>63.0</td>\n",
       "    </tr>\n",
       "    <tr>\n",
       "      <th>CfMSinceOldestTradeOpen</th>\n",
       "      <td>309.0</td>\n",
       "      <td>309.0</td>\n",
       "    </tr>\n",
       "    <tr>\n",
       "      <th>CfMSinceMostRecentTradeOpen</th>\n",
       "      <td>36.0</td>\n",
       "      <td>36.0</td>\n",
       "    </tr>\n",
       "    <tr>\n",
       "      <th>CfAverageMInFile</th>\n",
       "      <td>112.0</td>\n",
       "      <td>113.0</td>\n",
       "    </tr>\n",
       "    <tr>\n",
       "      <th>CfNumSatisfactoryTrades</th>\n",
       "      <td>17.0</td>\n",
       "      <td>17.0</td>\n",
       "    </tr>\n",
       "    <tr>\n",
       "      <th>CfNumTrades60Ever2DerogPubRec</th>\n",
       "      <td>2.0</td>\n",
       "      <td>1.0</td>\n",
       "    </tr>\n",
       "    <tr>\n",
       "      <th>CfNumTrades90Ever2DerogPubRec</th>\n",
       "      <td>1.0</td>\n",
       "      <td>1.0</td>\n",
       "    </tr>\n",
       "    <tr>\n",
       "      <th>CfPercentTradesNeverDelq</th>\n",
       "      <td>68.0</td>\n",
       "      <td>69.0</td>\n",
       "    </tr>\n",
       "    <tr>\n",
       "      <th>CfMSinceMostRecentDelq</th>\n",
       "      <td>7.0</td>\n",
       "      <td>7.0</td>\n",
       "    </tr>\n",
       "    <tr>\n",
       "      <th>CfMaxDelq2PublicRecLast12M</th>\n",
       "      <td>3.0</td>\n",
       "      <td>17.0</td>\n",
       "    </tr>\n",
       "    <tr>\n",
       "      <th>CfMaxDelqEver</th>\n",
       "      <td>4.0</td>\n",
       "      <td>4.0</td>\n",
       "    </tr>\n",
       "    <tr>\n",
       "      <th>CfNumTotalTrades</th>\n",
       "      <td>18.0</td>\n",
       "      <td>19.0</td>\n",
       "    </tr>\n",
       "    <tr>\n",
       "      <th>CfNumTradesOpeninLast12M</th>\n",
       "      <td>0.0</td>\n",
       "      <td>0.0</td>\n",
       "    </tr>\n",
       "    <tr>\n",
       "      <th>CfPercentInstallTrades</th>\n",
       "      <td>15.0</td>\n",
       "      <td>16.0</td>\n",
       "    </tr>\n",
       "    <tr>\n",
       "      <th>CfMSinceMostRecentInqexcl7days</th>\n",
       "      <td>-8.0</td>\n",
       "      <td>0.0</td>\n",
       "    </tr>\n",
       "    <tr>\n",
       "      <th>CfNumInqLast6M</th>\n",
       "      <td>1.0</td>\n",
       "      <td>1.0</td>\n",
       "    </tr>\n",
       "    <tr>\n",
       "      <th>CfNumInqLast6Mexcl7days</th>\n",
       "      <td>1.0</td>\n",
       "      <td>1.0</td>\n",
       "    </tr>\n",
       "    <tr>\n",
       "      <th>CfNetFractionRevolvingBurden</th>\n",
       "      <td>55.0</td>\n",
       "      <td>54.0</td>\n",
       "    </tr>\n",
       "    <tr>\n",
       "      <th>CfNetFractionInstallBurden</th>\n",
       "      <td>-9.0</td>\n",
       "      <td>-8.0</td>\n",
       "    </tr>\n",
       "    <tr>\n",
       "      <th>CfNumRevolvingTradesWBalance</th>\n",
       "      <td>6.0</td>\n",
       "      <td>6.0</td>\n",
       "    </tr>\n",
       "    <tr>\n",
       "      <th>CfNumInstallTradesWBalance</th>\n",
       "      <td>2.0</td>\n",
       "      <td>2.0</td>\n",
       "    </tr>\n",
       "    <tr>\n",
       "      <th>CfNumBank2NatlTradesWHighUtilization</th>\n",
       "      <td>2.0</td>\n",
       "      <td>1.0</td>\n",
       "    </tr>\n",
       "    <tr>\n",
       "      <th>CfPercentTradesWBalance</th>\n",
       "      <td>67.0</td>\n",
       "      <td>68.0</td>\n",
       "    </tr>\n",
       "    <tr>\n",
       "      <th>GoalValue</th>\n",
       "      <td>1.0</td>\n",
       "      <td>1.0</td>\n",
       "    </tr>\n",
       "    <tr>\n",
       "      <th>GoalName</th>\n",
       "      <td>RiskPerformance</td>\n",
       "      <td>RiskPerformance</td>\n",
       "    </tr>\n",
       "    <tr>\n",
       "      <th>GoalScore</th>\n",
       "      <td>0.572623</td>\n",
       "      <td>0.506854</td>\n",
       "    </tr>\n",
       "    <tr>\n",
       "      <th>method</th>\n",
       "      <td>TrustyAI</td>\n",
       "      <td>TrustyAI</td>\n",
       "    </tr>\n",
       "    <tr>\n",
       "      <th>model</th>\n",
       "      <td>XGBoost</td>\n",
       "      <td>MLP</td>\n",
       "    </tr>\n",
       "  </tbody>\n",
       "</table>\n",
       "</div>"
      ],
      "text/plain": [
       "                                                    0                0\n",
       "ExternalRiskEstimate                               63               63\n",
       "MSinceOldestTradeOpen                             309              309\n",
       "MSinceMostRecentTradeOpen                          36               36\n",
       "AverageMInFile                                    112              112\n",
       "NumSatisfactoryTrades                              17               17\n",
       "NumTrades60Ever2DerogPubRec                         2                2\n",
       "NumTrades90Ever2DerogPubRec                         1                1\n",
       "PercentTradesNeverDelq                             68               68\n",
       "MSinceMostRecentDelq                                7                7\n",
       "MaxDelq2PublicRecLast12M                            2                2\n",
       "MaxDelqEver                                         4                4\n",
       "NumTotalTrades                                     19               19\n",
       "NumTradesOpeninLast12M                              0                0\n",
       "PercentInstallTrades                               16               16\n",
       "MSinceMostRecentInqexcl7days                        0                0\n",
       "NumInqLast6M                                        1                1\n",
       "NumInqLast6Mexcl7days                               1                1\n",
       "NetFractionRevolvingBurden                         54               54\n",
       "NetFractionInstallBurden                           -8               -8\n",
       "NumRevolvingTradesWBalance                          5                5\n",
       "NumInstallTradesWBalance                            1                1\n",
       "NumBank2NatlTradesWHighUtilization                  2                2\n",
       "PercentTradesWBalance                              67               67\n",
       "CfExternalRiskEstimate                           63.0             63.0\n",
       "CfMSinceOldestTradeOpen                         309.0            309.0\n",
       "CfMSinceMostRecentTradeOpen                      36.0             36.0\n",
       "CfAverageMInFile                                112.0            113.0\n",
       "CfNumSatisfactoryTrades                          17.0             17.0\n",
       "CfNumTrades60Ever2DerogPubRec                     2.0              1.0\n",
       "CfNumTrades90Ever2DerogPubRec                     1.0              1.0\n",
       "CfPercentTradesNeverDelq                         68.0             69.0\n",
       "CfMSinceMostRecentDelq                            7.0              7.0\n",
       "CfMaxDelq2PublicRecLast12M                        3.0             17.0\n",
       "CfMaxDelqEver                                     4.0              4.0\n",
       "CfNumTotalTrades                                 18.0             19.0\n",
       "CfNumTradesOpeninLast12M                          0.0              0.0\n",
       "CfPercentInstallTrades                           15.0             16.0\n",
       "CfMSinceMostRecentInqexcl7days                   -8.0              0.0\n",
       "CfNumInqLast6M                                    1.0              1.0\n",
       "CfNumInqLast6Mexcl7days                           1.0              1.0\n",
       "CfNetFractionRevolvingBurden                     55.0             54.0\n",
       "CfNetFractionInstallBurden                       -9.0             -8.0\n",
       "CfNumRevolvingTradesWBalance                      6.0              6.0\n",
       "CfNumInstallTradesWBalance                        2.0              2.0\n",
       "CfNumBank2NatlTradesWHighUtilization              2.0              1.0\n",
       "CfPercentTradesWBalance                          67.0             68.0\n",
       "GoalValue                                         1.0              1.0\n",
       "GoalName                              RiskPerformance  RiskPerformance\n",
       "GoalScore                                    0.572623         0.506854\n",
       "method                                       TrustyAI         TrustyAI\n",
       "model                                         XGBoost              MLP"
      ]
     },
     "execution_count": 39,
     "metadata": {},
     "output_type": "execute_result"
    }
   ],
   "source": [
    "final_df = pd.concat([cf_df, cf_mlp_df])\n",
    "final_df.T"
   ]
  },
  {
   "cell_type": "code",
   "execution_count": 40,
   "metadata": {},
   "outputs": [],
   "source": [
    "final_df.to_csv(\"../../results/cf-trustyai.csv\")"
   ]
  },
  {
   "cell_type": "code",
   "execution_count": null,
   "metadata": {},
   "outputs": [],
   "source": []
  }
 ],
 "metadata": {
  "kernelspec": {
   "display_name": "experiments-alibi",
   "language": "python",
   "name": "experiments-alibi"
  },
  "language_info": {
   "codemirror_mode": {
    "name": "ipython",
    "version": 3
   },
   "file_extension": ".py",
   "mimetype": "text/x-python",
   "name": "python",
   "nbconvert_exporter": "python",
   "pygments_lexer": "ipython3",
   "version": "3.7.12"
  }
 },
 "nbformat": 4,
 "nbformat_minor": 4
}
