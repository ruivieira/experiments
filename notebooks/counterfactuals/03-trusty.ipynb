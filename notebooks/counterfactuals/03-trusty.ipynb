{
 "cells": [
  {
   "cell_type": "markdown",
   "metadata": {},
   "source": [
    "# TrustyAI\n",
    "\n",
    "## Load data"
   ]
  },
  {
   "cell_type": "code",
   "execution_count": 1,
   "metadata": {},
   "outputs": [],
   "source": [
    "import warnings\n",
    "warnings.filterwarnings('ignore')"
   ]
  },
  {
   "cell_type": "code",
   "execution_count": 2,
   "metadata": {
    "tags": []
   },
   "outputs": [],
   "source": [
    "import pandas as pd\n",
    "\n",
    "df = pd.read_csv(\"../../datasets/FICO/heloc_dataset_v1.csv\")"
   ]
  },
  {
   "cell_type": "code",
   "execution_count": 3,
   "metadata": {},
   "outputs": [],
   "source": [
    "import utils\n",
    "\n",
    "bounds = utils.data_bounds(df)"
   ]
  },
  {
   "cell_type": "markdown",
   "metadata": {},
   "source": [
    "## Load model"
   ]
  },
  {
   "cell_type": "code",
   "execution_count": 4,
   "metadata": {},
   "outputs": [],
   "source": [
    "from xgboost.sklearn import XGBClassifier\n",
    "\n",
    "model = XGBClassifier()"
   ]
  },
  {
   "cell_type": "code",
   "execution_count": 5,
   "metadata": {},
   "outputs": [],
   "source": [
    "model.load_model(\"../../models/xgboost.json\")"
   ]
  },
  {
   "cell_type": "markdown",
   "metadata": {},
   "source": [
    "## Counterfactuals search"
   ]
  },
  {
   "cell_type": "markdown",
   "metadata": {},
   "source": [
    "### Selecting inputs"
   ]
  },
  {
   "cell_type": "code",
   "execution_count": 6,
   "metadata": {},
   "outputs": [],
   "source": [
    "X = utils.get_negative_closest(model, 0.75)"
   ]
  },
  {
   "cell_type": "code",
   "execution_count": 8,
   "metadata": {},
   "outputs": [
    {
     "data": {
      "text/plain": [
       "{'ExternalRiskEstimate': 65,\n",
       " 'MSinceOldestTradeOpen': 43,\n",
       " 'MSinceMostRecentTradeOpen': 2,\n",
       " 'AverageMInFile': 26,\n",
       " 'NumSatisfactoryTrades': 15,\n",
       " 'NumTrades60Ever2DerogPubRec': 1,\n",
       " 'NumTrades90Ever2DerogPubRec': 1,\n",
       " 'PercentTradesNeverDelq': 100,\n",
       " 'MSinceMostRecentDelq': -7,\n",
       " 'MaxDelq2PublicRecLast12M': 7,\n",
       " 'MaxDelqEver': 8,\n",
       " 'NumTotalTrades': 17,\n",
       " 'NumTradesOpeninLast12M': 2,\n",
       " 'PercentInstallTrades': 25,\n",
       " 'MSinceMostRecentInqexcl7days': 0,\n",
       " 'NumInqLast6M': 4,\n",
       " 'NumInqLast6Mexcl7days': 4,\n",
       " 'NetFractionRevolvingBurden': 31,\n",
       " 'NetFractionInstallBurden': 83,\n",
       " 'NumRevolvingTradesWBalance': 5,\n",
       " 'NumInstallTradesWBalance': 1,\n",
       " 'NumBank2NatlTradesWHighUtilization': 0,\n",
       " 'PercentTradesWBalance': 75}"
      ]
     },
     "execution_count": 8,
     "metadata": {},
     "output_type": "execute_result"
    }
   ],
   "source": [
    "X.to_dict()"
   ]
  },
  {
   "cell_type": "code",
   "execution_count": 11,
   "metadata": {},
   "outputs": [
    {
     "data": {
      "text/plain": [
       "array([[0.7499573 , 0.25004265]], dtype=float32)"
      ]
     },
     "execution_count": 11,
     "metadata": {},
     "output_type": "execute_result"
    }
   ],
   "source": [
    "model.predict_proba(X.to_numpy().reshape(1, -1))"
   ]
  },
  {
   "cell_type": "markdown",
   "metadata": {},
   "source": [
    "### Define problem"
   ]
  },
  {
   "cell_type": "code",
   "execution_count": 12,
   "metadata": {},
   "outputs": [],
   "source": [
    "import trustyai\n",
    "import os\n",
    "import site\n",
    "\n",
    "DEFAULT_DEP_PATH = os.path.join(site.getsitepackages()[0], \"trustyai\", \"dep\")\n",
    "\n",
    "CORE_DEPS = [\n",
    "    f\"../../deps/*\",\n",
    "    f\"{DEFAULT_DEP_PATH}/org/slf4j/slf4j-api/1.7.30/slf4j-api-1.7.30.jar\",\n",
    "    f\"{DEFAULT_DEP_PATH}/org/apache/commons/commons-lang3/3.12.0/commons-lang3-3.12.0.jar\",\n",
    "    f\"{DEFAULT_DEP_PATH}/org/optaplanner/optaplanner-core-impl/8.18.0.Final/\"\n",
    "    f\"optaplanner-core-impl-8.18.0.Final.jar\",\n",
    "    f\"{DEFAULT_DEP_PATH}/org/apache/commons/commons-math3/3.6.1/commons-math3-3.6.1.jar\",\n",
    "    f\"{DEFAULT_DEP_PATH}/org/kie/kie-api/8.18.0.Beta/kie-api-8.18.0.Beta.jar\",\n",
    "    f\"{DEFAULT_DEP_PATH}/io/micrometer/micrometer-core/1.8.2/micrometer-core-1.8.2.jar\",\n",
    "]\n",
    "\n",
    "trustyai.init(path=CORE_DEPS)"
   ]
  },
  {
   "cell_type": "code",
   "execution_count": 17,
   "metadata": {},
   "outputs": [],
   "source": [
    "from org.kie.kogito.explainability.model import PredictionInput, PredictionOutput\n",
    "from trustyai.model import output\n",
    "import numpy as np\n",
    "\n",
    "TARGET = \"RiskPerformance\"\n",
    "\n",
    "def predict(inputs):\n",
    "    values = [_feature.value.as_number() for _feature in inputs[0].features]\n",
    "    result = model.predict_proba(np.array([values]))\n",
    "    bad_prob, good_prob = result[0]\n",
    "    if bad_prob > good_prob:\n",
    "        _prediction = (0, bad_prob)\n",
    "    else:\n",
    "        _prediction = (1, good_prob)\n",
    "    _output = output(name=TARGET, dtype=\"number\", value=_prediction[0], score=_prediction[1])\n",
    "    return [PredictionOutput([_output])]"
   ]
  },
  {
   "cell_type": "code",
   "execution_count": 18,
   "metadata": {},
   "outputs": [],
   "source": [
    "from trustyai.model import Model\n",
    "\n",
    "provider = Model(predict)"
   ]
  },
  {
   "cell_type": "code",
   "execution_count": 19,
   "metadata": {},
   "outputs": [],
   "source": [
    "from trustyai.model import feature\n",
    "\n",
    "input_feature = []\n",
    "input_dict = X.to_dict()\n",
    "for name in input_dict:\n",
    "    input_feature.append(\n",
    "        feature(name=name, value=input_dict[name], dtype=\"number\",\n",
    "                domain=(bounds['min'][name], bounds['max'][name] + 20))\n",
    "    )"
   ]
  },
  {
   "cell_type": "code",
   "execution_count": 20,
   "metadata": {},
   "outputs": [
    {
     "data": {
      "text/plain": [
       "'Output{value=0, type=number, score=0.7499573230743408, name='RiskPerformance'}'"
      ]
     },
     "execution_count": 20,
     "metadata": {},
     "output_type": "execute_result"
    }
   ],
   "source": [
    "predict([PredictionInput(input_feature)])[0].outputs.get(0).toString()"
   ]
  },
  {
   "cell_type": "code",
   "execution_count": 21,
   "metadata": {},
   "outputs": [],
   "source": [
    "goal = [output(name=TARGET, dtype=\"number\", value=1)]"
   ]
  },
  {
   "cell_type": "code",
   "execution_count": 22,
   "metadata": {},
   "outputs": [
    {
     "data": {
      "text/plain": [
       "'Output{value=1, type=number, score=1.0, name='RiskPerformance'}'"
      ]
     },
     "execution_count": 22,
     "metadata": {},
     "output_type": "execute_result"
    }
   ],
   "source": [
    "goal[0].toString()"
   ]
  },
  {
   "cell_type": "code",
   "execution_count": 23,
   "metadata": {},
   "outputs": [],
   "source": [
    "from trustyai.model import counterfactual_prediction\n",
    "\n",
    "prediction = counterfactual_prediction(\n",
    "    input_features=input_feature,\n",
    "    outputs=goal)"
   ]
  },
  {
   "cell_type": "code",
   "execution_count": 25,
   "metadata": {},
   "outputs": [],
   "source": [
    "from trustyai.explainers import CounterfactualExplainer\n",
    "\n",
    "explainer = CounterfactualExplainer(steps=10_000)"
   ]
  },
  {
   "cell_type": "code",
   "execution_count": 26,
   "metadata": {},
   "outputs": [],
   "source": [
    "explanation = explainer.explain(prediction, provider)"
   ]
  },
  {
   "cell_type": "code",
   "execution_count": 27,
   "metadata": {},
   "outputs": [],
   "source": [
    "expl_features = [e.asFeature() for e in explanation.entities]"
   ]
  },
  {
   "cell_type": "code",
   "execution_count": 28,
   "metadata": {},
   "outputs": [
    {
     "data": {
      "text/plain": [
       "'Output{value=1, type=number, score=0.514225959777832, name='RiskPerformance'}'"
      ]
     },
     "execution_count": 28,
     "metadata": {},
     "output_type": "execute_result"
    }
   ],
   "source": [
    "predict([PredictionInput(expl_features)])[0].outputs.get(0).toString()"
   ]
  },
  {
   "cell_type": "code",
   "execution_count": 29,
   "metadata": {},
   "outputs": [
    {
     "name": "stdout",
     "output_type": "stream",
     "text": [
      "Feature 'ExternalRiskEstimate': 65.0 -> 78.0\n"
     ]
    }
   ],
   "source": [
    "def show_changes(explanation, original):\n",
    "    entities = explanation.entities\n",
    "    N = len(original)\n",
    "    for i in range(N):\n",
    "        name = original[i].name\n",
    "        original_value = original[i].value.as_number()\n",
    "        new_value = entities[i].as_feature().value.as_number()\n",
    "        if original_value != new_value:\n",
    "            print(f\"Feature '{name}': {original_value} -> {new_value}\")\n",
    "\n",
    "\n",
    "show_changes(explanation, input_feature)"
   ]
  },
  {
   "cell_type": "code",
   "execution_count": null,
   "metadata": {},
   "outputs": [],
   "source": []
  }
 ],
 "metadata": {
  "kernelspec": {
   "display_name": "experiments",
   "language": "python",
   "name": "experiments"
  },
  "language_info": {
   "codemirror_mode": {
    "name": "ipython",
    "version": 3
   },
   "file_extension": ".py",
   "mimetype": "text/x-python",
   "name": "python",
   "nbconvert_exporter": "python",
   "pygments_lexer": "ipython3",
   "version": "3.9.10"
  }
 },
 "nbformat": 4,
 "nbformat_minor": 4
}
