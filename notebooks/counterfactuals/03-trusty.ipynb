{
 "cells": [
  {
   "cell_type": "markdown",
   "metadata": {},
   "source": [
    "# TrustyAI\n",
    "\n",
    "## Load data"
   ]
  },
  {
   "cell_type": "code",
   "execution_count": 1,
   "metadata": {},
   "outputs": [],
   "source": [
    "import warnings\n",
    "warnings.filterwarnings('ignore')"
   ]
  },
  {
   "cell_type": "code",
   "execution_count": 2,
   "metadata": {
    "tags": []
   },
   "outputs": [],
   "source": [
    "import pandas as pd\n",
    "\n",
    "df = pd.read_csv(\"../../datasets/FICO/heloc_dataset_v1.csv\")"
   ]
  },
  {
   "cell_type": "code",
   "execution_count": 3,
   "metadata": {},
   "outputs": [],
   "source": [
    "TARGET = 'RiskPerformance'"
   ]
  },
  {
   "cell_type": "code",
   "execution_count": 4,
   "metadata": {},
   "outputs": [],
   "source": [
    "df[TARGET] = df[TARGET].factorize()[0]"
   ]
  },
  {
   "cell_type": "code",
   "execution_count": 5,
   "metadata": {},
   "outputs": [
    {
     "data": {
      "text/html": [
       "<div>\n",
       "<style scoped>\n",
       "    .dataframe tbody tr th:only-of-type {\n",
       "        vertical-align: middle;\n",
       "    }\n",
       "\n",
       "    .dataframe tbody tr th {\n",
       "        vertical-align: top;\n",
       "    }\n",
       "\n",
       "    .dataframe thead th {\n",
       "        text-align: right;\n",
       "    }\n",
       "</style>\n",
       "<table border=\"1\" class=\"dataframe\">\n",
       "  <thead>\n",
       "    <tr style=\"text-align: right;\">\n",
       "      <th></th>\n",
       "      <th>count</th>\n",
       "      <th>mean</th>\n",
       "      <th>std</th>\n",
       "      <th>min</th>\n",
       "      <th>25%</th>\n",
       "      <th>50%</th>\n",
       "      <th>75%</th>\n",
       "      <th>max</th>\n",
       "    </tr>\n",
       "  </thead>\n",
       "  <tbody>\n",
       "    <tr>\n",
       "      <th>RiskPerformance</th>\n",
       "      <td>10459.0</td>\n",
       "      <td>0.478057</td>\n",
       "      <td>0.499542</td>\n",
       "      <td>0.0</td>\n",
       "      <td>0.0</td>\n",
       "      <td>0.0</td>\n",
       "      <td>1.0</td>\n",
       "      <td>1.0</td>\n",
       "    </tr>\n",
       "    <tr>\n",
       "      <th>ExternalRiskEstimate</th>\n",
       "      <td>10459.0</td>\n",
       "      <td>67.425758</td>\n",
       "      <td>21.121621</td>\n",
       "      <td>-9.0</td>\n",
       "      <td>63.0</td>\n",
       "      <td>71.0</td>\n",
       "      <td>79.0</td>\n",
       "      <td>94.0</td>\n",
       "    </tr>\n",
       "    <tr>\n",
       "      <th>MSinceOldestTradeOpen</th>\n",
       "      <td>10459.0</td>\n",
       "      <td>184.205373</td>\n",
       "      <td>109.683816</td>\n",
       "      <td>-9.0</td>\n",
       "      <td>118.0</td>\n",
       "      <td>178.0</td>\n",
       "      <td>249.5</td>\n",
       "      <td>803.0</td>\n",
       "    </tr>\n",
       "    <tr>\n",
       "      <th>MSinceMostRecentTradeOpen</th>\n",
       "      <td>10459.0</td>\n",
       "      <td>8.543455</td>\n",
       "      <td>13.301745</td>\n",
       "      <td>-9.0</td>\n",
       "      <td>3.0</td>\n",
       "      <td>5.0</td>\n",
       "      <td>11.0</td>\n",
       "      <td>383.0</td>\n",
       "    </tr>\n",
       "    <tr>\n",
       "      <th>AverageMInFile</th>\n",
       "      <td>10459.0</td>\n",
       "      <td>73.843293</td>\n",
       "      <td>38.782803</td>\n",
       "      <td>-9.0</td>\n",
       "      <td>52.0</td>\n",
       "      <td>74.0</td>\n",
       "      <td>95.0</td>\n",
       "      <td>383.0</td>\n",
       "    </tr>\n",
       "    <tr>\n",
       "      <th>NumSatisfactoryTrades</th>\n",
       "      <td>10459.0</td>\n",
       "      <td>19.428052</td>\n",
       "      <td>13.004327</td>\n",
       "      <td>-9.0</td>\n",
       "      <td>12.0</td>\n",
       "      <td>19.0</td>\n",
       "      <td>27.0</td>\n",
       "      <td>79.0</td>\n",
       "    </tr>\n",
       "    <tr>\n",
       "      <th>NumTrades60Ever2DerogPubRec</th>\n",
       "      <td>10459.0</td>\n",
       "      <td>0.042738</td>\n",
       "      <td>2.513910</td>\n",
       "      <td>-9.0</td>\n",
       "      <td>0.0</td>\n",
       "      <td>0.0</td>\n",
       "      <td>1.0</td>\n",
       "      <td>19.0</td>\n",
       "    </tr>\n",
       "    <tr>\n",
       "      <th>NumTrades90Ever2DerogPubRec</th>\n",
       "      <td>10459.0</td>\n",
       "      <td>-0.142843</td>\n",
       "      <td>2.367397</td>\n",
       "      <td>-9.0</td>\n",
       "      <td>0.0</td>\n",
       "      <td>0.0</td>\n",
       "      <td>0.0</td>\n",
       "      <td>19.0</td>\n",
       "    </tr>\n",
       "    <tr>\n",
       "      <th>PercentTradesNeverDelq</th>\n",
       "      <td>10459.0</td>\n",
       "      <td>86.661536</td>\n",
       "      <td>25.999584</td>\n",
       "      <td>-9.0</td>\n",
       "      <td>87.0</td>\n",
       "      <td>96.0</td>\n",
       "      <td>100.0</td>\n",
       "      <td>100.0</td>\n",
       "    </tr>\n",
       "    <tr>\n",
       "      <th>MSinceMostRecentDelq</th>\n",
       "      <td>10459.0</td>\n",
       "      <td>6.762406</td>\n",
       "      <td>20.501250</td>\n",
       "      <td>-9.0</td>\n",
       "      <td>-7.0</td>\n",
       "      <td>-7.0</td>\n",
       "      <td>14.0</td>\n",
       "      <td>83.0</td>\n",
       "    </tr>\n",
       "    <tr>\n",
       "      <th>MaxDelq2PublicRecLast12M</th>\n",
       "      <td>10459.0</td>\n",
       "      <td>4.928291</td>\n",
       "      <td>3.756275</td>\n",
       "      <td>-9.0</td>\n",
       "      <td>4.0</td>\n",
       "      <td>6.0</td>\n",
       "      <td>7.0</td>\n",
       "      <td>9.0</td>\n",
       "    </tr>\n",
       "    <tr>\n",
       "      <th>MaxDelqEver</th>\n",
       "      <td>10459.0</td>\n",
       "      <td>5.510183</td>\n",
       "      <td>3.971182</td>\n",
       "      <td>-9.0</td>\n",
       "      <td>5.0</td>\n",
       "      <td>6.0</td>\n",
       "      <td>8.0</td>\n",
       "      <td>8.0</td>\n",
       "    </tr>\n",
       "    <tr>\n",
       "      <th>NumTotalTrades</th>\n",
       "      <td>10459.0</td>\n",
       "      <td>20.856965</td>\n",
       "      <td>14.580905</td>\n",
       "      <td>-9.0</td>\n",
       "      <td>12.0</td>\n",
       "      <td>20.0</td>\n",
       "      <td>29.0</td>\n",
       "      <td>104.0</td>\n",
       "    </tr>\n",
       "    <tr>\n",
       "      <th>NumTradesOpeninLast12M</th>\n",
       "      <td>10459.0</td>\n",
       "      <td>1.253083</td>\n",
       "      <td>3.068684</td>\n",
       "      <td>-9.0</td>\n",
       "      <td>0.0</td>\n",
       "      <td>1.0</td>\n",
       "      <td>3.0</td>\n",
       "      <td>19.0</td>\n",
       "    </tr>\n",
       "    <tr>\n",
       "      <th>PercentInstallTrades</th>\n",
       "      <td>10459.0</td>\n",
       "      <td>32.166460</td>\n",
       "      <td>20.128634</td>\n",
       "      <td>-9.0</td>\n",
       "      <td>20.0</td>\n",
       "      <td>31.0</td>\n",
       "      <td>44.0</td>\n",
       "      <td>100.0</td>\n",
       "    </tr>\n",
       "    <tr>\n",
       "      <th>MSinceMostRecentInqexcl7days</th>\n",
       "      <td>10459.0</td>\n",
       "      <td>-0.325366</td>\n",
       "      <td>6.067556</td>\n",
       "      <td>-9.0</td>\n",
       "      <td>-7.0</td>\n",
       "      <td>0.0</td>\n",
       "      <td>1.0</td>\n",
       "      <td>24.0</td>\n",
       "    </tr>\n",
       "    <tr>\n",
       "      <th>NumInqLast6M</th>\n",
       "      <td>10459.0</td>\n",
       "      <td>0.868152</td>\n",
       "      <td>3.179304</td>\n",
       "      <td>-9.0</td>\n",
       "      <td>0.0</td>\n",
       "      <td>1.0</td>\n",
       "      <td>2.0</td>\n",
       "      <td>66.0</td>\n",
       "    </tr>\n",
       "    <tr>\n",
       "      <th>NumInqLast6Mexcl7days</th>\n",
       "      <td>10459.0</td>\n",
       "      <td>0.812602</td>\n",
       "      <td>3.143698</td>\n",
       "      <td>-9.0</td>\n",
       "      <td>0.0</td>\n",
       "      <td>1.0</td>\n",
       "      <td>2.0</td>\n",
       "      <td>66.0</td>\n",
       "    </tr>\n",
       "    <tr>\n",
       "      <th>NetFractionRevolvingBurden</th>\n",
       "      <td>10459.0</td>\n",
       "      <td>31.629888</td>\n",
       "      <td>30.060140</td>\n",
       "      <td>-9.0</td>\n",
       "      <td>5.0</td>\n",
       "      <td>25.0</td>\n",
       "      <td>54.0</td>\n",
       "      <td>232.0</td>\n",
       "    </tr>\n",
       "    <tr>\n",
       "      <th>NetFractionInstallBurden</th>\n",
       "      <td>10459.0</td>\n",
       "      <td>39.158906</td>\n",
       "      <td>42.101601</td>\n",
       "      <td>-9.0</td>\n",
       "      <td>-8.0</td>\n",
       "      <td>47.0</td>\n",
       "      <td>79.0</td>\n",
       "      <td>471.0</td>\n",
       "    </tr>\n",
       "    <tr>\n",
       "      <th>NumRevolvingTradesWBalance</th>\n",
       "      <td>10459.0</td>\n",
       "      <td>3.185008</td>\n",
       "      <td>4.413173</td>\n",
       "      <td>-9.0</td>\n",
       "      <td>2.0</td>\n",
       "      <td>3.0</td>\n",
       "      <td>5.0</td>\n",
       "      <td>32.0</td>\n",
       "    </tr>\n",
       "    <tr>\n",
       "      <th>NumInstallTradesWBalance</th>\n",
       "      <td>10459.0</td>\n",
       "      <td>0.976097</td>\n",
       "      <td>4.060995</td>\n",
       "      <td>-9.0</td>\n",
       "      <td>1.0</td>\n",
       "      <td>2.0</td>\n",
       "      <td>3.0</td>\n",
       "      <td>23.0</td>\n",
       "    </tr>\n",
       "    <tr>\n",
       "      <th>NumBank2NatlTradesWHighUtilization</th>\n",
       "      <td>10459.0</td>\n",
       "      <td>0.018071</td>\n",
       "      <td>3.358135</td>\n",
       "      <td>-9.0</td>\n",
       "      <td>0.0</td>\n",
       "      <td>0.0</td>\n",
       "      <td>1.0</td>\n",
       "      <td>18.0</td>\n",
       "    </tr>\n",
       "    <tr>\n",
       "      <th>PercentTradesWBalance</th>\n",
       "      <td>10459.0</td>\n",
       "      <td>62.079166</td>\n",
       "      <td>27.711565</td>\n",
       "      <td>-9.0</td>\n",
       "      <td>47.0</td>\n",
       "      <td>67.0</td>\n",
       "      <td>82.0</td>\n",
       "      <td>100.0</td>\n",
       "    </tr>\n",
       "  </tbody>\n",
       "</table>\n",
       "</div>"
      ],
      "text/plain": [
       "                                      count        mean         std  min  \\\n",
       "RiskPerformance                     10459.0    0.478057    0.499542  0.0   \n",
       "ExternalRiskEstimate                10459.0   67.425758   21.121621 -9.0   \n",
       "MSinceOldestTradeOpen               10459.0  184.205373  109.683816 -9.0   \n",
       "MSinceMostRecentTradeOpen           10459.0    8.543455   13.301745 -9.0   \n",
       "AverageMInFile                      10459.0   73.843293   38.782803 -9.0   \n",
       "NumSatisfactoryTrades               10459.0   19.428052   13.004327 -9.0   \n",
       "NumTrades60Ever2DerogPubRec         10459.0    0.042738    2.513910 -9.0   \n",
       "NumTrades90Ever2DerogPubRec         10459.0   -0.142843    2.367397 -9.0   \n",
       "PercentTradesNeverDelq              10459.0   86.661536   25.999584 -9.0   \n",
       "MSinceMostRecentDelq                10459.0    6.762406   20.501250 -9.0   \n",
       "MaxDelq2PublicRecLast12M            10459.0    4.928291    3.756275 -9.0   \n",
       "MaxDelqEver                         10459.0    5.510183    3.971182 -9.0   \n",
       "NumTotalTrades                      10459.0   20.856965   14.580905 -9.0   \n",
       "NumTradesOpeninLast12M              10459.0    1.253083    3.068684 -9.0   \n",
       "PercentInstallTrades                10459.0   32.166460   20.128634 -9.0   \n",
       "MSinceMostRecentInqexcl7days        10459.0   -0.325366    6.067556 -9.0   \n",
       "NumInqLast6M                        10459.0    0.868152    3.179304 -9.0   \n",
       "NumInqLast6Mexcl7days               10459.0    0.812602    3.143698 -9.0   \n",
       "NetFractionRevolvingBurden          10459.0   31.629888   30.060140 -9.0   \n",
       "NetFractionInstallBurden            10459.0   39.158906   42.101601 -9.0   \n",
       "NumRevolvingTradesWBalance          10459.0    3.185008    4.413173 -9.0   \n",
       "NumInstallTradesWBalance            10459.0    0.976097    4.060995 -9.0   \n",
       "NumBank2NatlTradesWHighUtilization  10459.0    0.018071    3.358135 -9.0   \n",
       "PercentTradesWBalance               10459.0   62.079166   27.711565 -9.0   \n",
       "\n",
       "                                      25%    50%    75%    max  \n",
       "RiskPerformance                       0.0    0.0    1.0    1.0  \n",
       "ExternalRiskEstimate                 63.0   71.0   79.0   94.0  \n",
       "MSinceOldestTradeOpen               118.0  178.0  249.5  803.0  \n",
       "MSinceMostRecentTradeOpen             3.0    5.0   11.0  383.0  \n",
       "AverageMInFile                       52.0   74.0   95.0  383.0  \n",
       "NumSatisfactoryTrades                12.0   19.0   27.0   79.0  \n",
       "NumTrades60Ever2DerogPubRec           0.0    0.0    1.0   19.0  \n",
       "NumTrades90Ever2DerogPubRec           0.0    0.0    0.0   19.0  \n",
       "PercentTradesNeverDelq               87.0   96.0  100.0  100.0  \n",
       "MSinceMostRecentDelq                 -7.0   -7.0   14.0   83.0  \n",
       "MaxDelq2PublicRecLast12M              4.0    6.0    7.0    9.0  \n",
       "MaxDelqEver                           5.0    6.0    8.0    8.0  \n",
       "NumTotalTrades                       12.0   20.0   29.0  104.0  \n",
       "NumTradesOpeninLast12M                0.0    1.0    3.0   19.0  \n",
       "PercentInstallTrades                 20.0   31.0   44.0  100.0  \n",
       "MSinceMostRecentInqexcl7days         -7.0    0.0    1.0   24.0  \n",
       "NumInqLast6M                          0.0    1.0    2.0   66.0  \n",
       "NumInqLast6Mexcl7days                 0.0    1.0    2.0   66.0  \n",
       "NetFractionRevolvingBurden            5.0   25.0   54.0  232.0  \n",
       "NetFractionInstallBurden             -8.0   47.0   79.0  471.0  \n",
       "NumRevolvingTradesWBalance            2.0    3.0    5.0   32.0  \n",
       "NumInstallTradesWBalance              1.0    2.0    3.0   23.0  \n",
       "NumBank2NatlTradesWHighUtilization    0.0    0.0    1.0   18.0  \n",
       "PercentTradesWBalance                47.0   67.0   82.0  100.0  "
      ]
     },
     "execution_count": 5,
     "metadata": {},
     "output_type": "execute_result"
    }
   ],
   "source": [
    "df.describe().T"
   ]
  },
  {
   "cell_type": "markdown",
   "metadata": {},
   "source": [
    "## Load model"
   ]
  },
  {
   "cell_type": "code",
   "execution_count": 6,
   "metadata": {},
   "outputs": [],
   "source": [
    "from sklearn.model_selection import train_test_split\n",
    "\n",
    "train, test = train_test_split(df, test_size=0.25, random_state=42)"
   ]
  },
  {
   "cell_type": "code",
   "execution_count": 7,
   "metadata": {},
   "outputs": [],
   "source": [
    "train_x = train[df.columns[~train.columns.isin([TARGET])]]\n",
    "train_y = train[TARGET]"
   ]
  },
  {
   "cell_type": "code",
   "execution_count": 8,
   "metadata": {},
   "outputs": [],
   "source": [
    "from xgboost.sklearn import XGBClassifier\n",
    "\n",
    "model = XGBClassifier()"
   ]
  },
  {
   "cell_type": "code",
   "execution_count": 9,
   "metadata": {},
   "outputs": [],
   "source": [
    "model.load_model(\"../../models/xgboost.json\")"
   ]
  },
  {
   "cell_type": "markdown",
   "metadata": {},
   "source": [
    "## Counterfactuals search"
   ]
  },
  {
   "cell_type": "markdown",
   "metadata": {},
   "source": [
    "### Selecting inputs"
   ]
  },
  {
   "cell_type": "code",
   "execution_count": 10,
   "metadata": {},
   "outputs": [],
   "source": [
    "test_x = test[test.columns[~test.columns.isin([TARGET])]]\n",
    "test_y = test[TARGET]"
   ]
  },
  {
   "cell_type": "code",
   "execution_count": 11,
   "metadata": {},
   "outputs": [],
   "source": [
    "probabilities = model.predict_proba(test_x)"
   ]
  },
  {
   "cell_type": "code",
   "execution_count": 12,
   "metadata": {},
   "outputs": [],
   "source": [
    "import numpy as np\n",
    "\n",
    "bad_probs = np.abs(probabilities[:, 0] - 0.75)\n",
    "index = bad_probs.argmin()"
   ]
  },
  {
   "cell_type": "code",
   "execution_count": 13,
   "metadata": {},
   "outputs": [
    {
     "data": {
      "text/plain": [
       "{'ExternalRiskEstimate': 65,\n",
       " 'MSinceOldestTradeOpen': 43,\n",
       " 'MSinceMostRecentTradeOpen': 2,\n",
       " 'AverageMInFile': 26,\n",
       " 'NumSatisfactoryTrades': 15,\n",
       " 'NumTrades60Ever2DerogPubRec': 1,\n",
       " 'NumTrades90Ever2DerogPubRec': 1,\n",
       " 'PercentTradesNeverDelq': 100,\n",
       " 'MSinceMostRecentDelq': -7,\n",
       " 'MaxDelq2PublicRecLast12M': 7,\n",
       " 'MaxDelqEver': 8,\n",
       " 'NumTotalTrades': 17,\n",
       " 'NumTradesOpeninLast12M': 2,\n",
       " 'PercentInstallTrades': 25,\n",
       " 'MSinceMostRecentInqexcl7days': 0,\n",
       " 'NumInqLast6M': 4,\n",
       " 'NumInqLast6Mexcl7days': 4,\n",
       " 'NetFractionRevolvingBurden': 31,\n",
       " 'NetFractionInstallBurden': 83,\n",
       " 'NumRevolvingTradesWBalance': 5,\n",
       " 'NumInstallTradesWBalance': 1,\n",
       " 'NumBank2NatlTradesWHighUtilization': 0,\n",
       " 'PercentTradesWBalance': 75}"
      ]
     },
     "execution_count": 13,
     "metadata": {},
     "output_type": "execute_result"
    }
   ],
   "source": [
    "test_x.iloc[index].to_dict()"
   ]
  },
  {
   "cell_type": "code",
   "execution_count": 14,
   "metadata": {},
   "outputs": [
    {
     "data": {
      "text/plain": [
       "array([[0.7499573 , 0.25004265]], dtype=float32)"
      ]
     },
     "execution_count": 14,
     "metadata": {},
     "output_type": "execute_result"
    }
   ],
   "source": [
    "model.predict_proba(test_x.iloc[[index]])"
   ]
  },
  {
   "cell_type": "markdown",
   "metadata": {},
   "source": [
    "### Define problem"
   ]
  },
  {
   "cell_type": "code",
   "execution_count": 15,
   "metadata": {},
   "outputs": [],
   "source": [
    "import trustyai\n",
    "import os\n",
    "import site\n",
    "\n",
    "DEFAULT_DEP_PATH = os.path.join(site.getsitepackages()[0], \"trustyai\", \"dep\")\n",
    "\n",
    "CORE_DEPS = [\n",
    "    f\"../../deps/*\",\n",
    "    f\"{DEFAULT_DEP_PATH}/org/slf4j/slf4j-api/1.7.30/slf4j-api-1.7.30.jar\",\n",
    "    f\"{DEFAULT_DEP_PATH}/org/apache/commons/commons-lang3/3.12.0/commons-lang3-3.12.0.jar\",\n",
    "    f\"{DEFAULT_DEP_PATH}/org/optaplanner/optaplanner-core-impl/8.18.0.Final/\"\n",
    "    f\"optaplanner-core-impl-8.18.0.Final.jar\",\n",
    "    f\"{DEFAULT_DEP_PATH}/org/apache/commons/commons-math3/3.6.1/commons-math3-3.6.1.jar\",\n",
    "    f\"{DEFAULT_DEP_PATH}/org/kie/kie-api/8.18.0.Beta/kie-api-8.18.0.Beta.jar\",\n",
    "    f\"{DEFAULT_DEP_PATH}/io/micrometer/micrometer-core/1.8.2/micrometer-core-1.8.2.jar\",\n",
    "]\n",
    "\n",
    "trustyai.init(path=CORE_DEPS)"
   ]
  },
  {
   "cell_type": "code",
   "execution_count": 16,
   "metadata": {},
   "outputs": [],
   "source": [
    "from org.kie.kogito.explainability.model import PredictionInput, PredictionOutput\n",
    "from trustyai.model import output\n",
    "import numpy as np\n",
    "\n",
    "def predict(inputs):\n",
    "    values = [_feature.value.as_number() for _feature in inputs[0].features]\n",
    "    result = model.predict_proba(np.array([values]))\n",
    "    bad_prob, good_prob = result[0]\n",
    "    if bad_prob > good_prob:\n",
    "        _prediction = (0, bad_prob)\n",
    "    else:\n",
    "        _prediction = (1, good_prob)\n",
    "    _output = output(name=TARGET, dtype=\"number\", value=_prediction[0], score=_prediction[1])\n",
    "    return [PredictionOutput([_output])]"
   ]
  },
  {
   "cell_type": "code",
   "execution_count": 17,
   "metadata": {},
   "outputs": [],
   "source": [
    "from trustyai.model import Model\n",
    "\n",
    "provider = Model(predict)"
   ]
  },
  {
   "cell_type": "code",
   "execution_count": 18,
   "metadata": {},
   "outputs": [],
   "source": [
    "summary = df.describe().T"
   ]
  },
  {
   "cell_type": "code",
   "execution_count": 19,
   "metadata": {},
   "outputs": [],
   "source": [
    "bounds = summary[['min', 'max']].to_dict()"
   ]
  },
  {
   "cell_type": "code",
   "execution_count": 20,
   "metadata": {},
   "outputs": [],
   "source": [
    "from trustyai.model import feature\n",
    "\n",
    "input_feature = []\n",
    "input_dict = test_x.iloc[index].to_dict()\n",
    "for name in input_dict:\n",
    "    input_feature.append(\n",
    "        feature(name=name, value=input_dict[name], dtype=\"number\",\n",
    "                domain=(bounds['min'][name], bounds['max'][name] + 20))\n",
    "    )"
   ]
  },
  {
   "cell_type": "code",
   "execution_count": 21,
   "metadata": {},
   "outputs": [
    {
     "data": {
      "text/plain": [
       "'Output{value=0, type=number, score=0.7499573230743408, name='RiskPerformance'}'"
      ]
     },
     "execution_count": 21,
     "metadata": {},
     "output_type": "execute_result"
    }
   ],
   "source": [
    "predict([PredictionInput(input_feature)])[0].outputs.get(0).toString()"
   ]
  },
  {
   "cell_type": "code",
   "execution_count": 22,
   "metadata": {},
   "outputs": [],
   "source": [
    "goal = [output(name=TARGET, dtype=\"number\", value=1)]"
   ]
  },
  {
   "cell_type": "code",
   "execution_count": 23,
   "metadata": {},
   "outputs": [
    {
     "data": {
      "text/plain": [
       "'Output{value=1, type=number, score=1.0, name='RiskPerformance'}'"
      ]
     },
     "execution_count": 23,
     "metadata": {},
     "output_type": "execute_result"
    }
   ],
   "source": [
    "goal[0].toString()"
   ]
  },
  {
   "cell_type": "code",
   "execution_count": 24,
   "metadata": {},
   "outputs": [],
   "source": [
    "from trustyai.model import counterfactual_prediction\n",
    "\n",
    "prediction = counterfactual_prediction(\n",
    "    input_features=input_feature,\n",
    "    outputs=goal)"
   ]
  },
  {
   "cell_type": "code",
   "execution_count": 26,
   "metadata": {},
   "outputs": [],
   "source": [
    "from trustyai.explainers import CounterfactualExplainer\n",
    "\n",
    "explainer = CounterfactualExplainer(steps=10_000)"
   ]
  },
  {
   "cell_type": "code",
   "execution_count": 27,
   "metadata": {},
   "outputs": [],
   "source": [
    "explanation = explainer.explain(prediction, provider)"
   ]
  },
  {
   "cell_type": "code",
   "execution_count": 28,
   "metadata": {},
   "outputs": [],
   "source": [
    "expl_features = [e.asFeature() for e in explanation.entities]"
   ]
  },
  {
   "cell_type": "code",
   "execution_count": 29,
   "metadata": {},
   "outputs": [
    {
     "data": {
      "text/plain": [
       "'Output{value=1, type=number, score=0.514225959777832, name='RiskPerformance'}'"
      ]
     },
     "execution_count": 29,
     "metadata": {},
     "output_type": "execute_result"
    }
   ],
   "source": [
    "predict([PredictionInput(expl_features)])[0].outputs.get(0).toString()"
   ]
  },
  {
   "cell_type": "code",
   "execution_count": 30,
   "metadata": {},
   "outputs": [
    {
     "name": "stdout",
     "output_type": "stream",
     "text": [
      "Feature 'ExternalRiskEstimate': 65.0 -> 78.0\n"
     ]
    }
   ],
   "source": [
    "def show_changes(explanation, original):\n",
    "    entities = explanation.entities\n",
    "    N = len(original)\n",
    "    for i in range(N):\n",
    "        name = original[i].name\n",
    "        original_value = original[i].value.as_number()\n",
    "        new_value = entities[i].as_feature().value.as_number()\n",
    "        if original_value != new_value:\n",
    "            print(f\"Feature '{name}': {original_value} -> {new_value}\")\n",
    "\n",
    "\n",
    "show_changes(explanation, input_feature)"
   ]
  },
  {
   "cell_type": "code",
   "execution_count": null,
   "metadata": {},
   "outputs": [],
   "source": []
  }
 ],
 "metadata": {
  "kernelspec": {
   "display_name": "experiments",
   "language": "python",
   "name": "experiments"
  },
  "language_info": {
   "codemirror_mode": {
    "name": "ipython",
    "version": 3
   },
   "file_extension": ".py",
   "mimetype": "text/x-python",
   "name": "python",
   "nbconvert_exporter": "python",
   "pygments_lexer": "ipython3",
   "version": "3.9.10"
  }
 },
 "nbformat": 4,
 "nbformat_minor": 4
}
