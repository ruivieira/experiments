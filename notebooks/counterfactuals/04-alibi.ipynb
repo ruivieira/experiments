{
 "cells": [
  {
   "cell_type": "markdown",
   "metadata": {},
   "source": [
    "# ALIBI\n",
    "## Load data"
   ]
  },
  {
   "cell_type": "code",
   "execution_count": 1,
   "metadata": {},
   "outputs": [],
   "source": [
    "import warnings\n",
    "warnings.filterwarnings('ignore')"
   ]
  },
  {
   "cell_type": "code",
   "execution_count": 2,
   "metadata": {},
   "outputs": [],
   "source": [
    "import pandas as pd\n",
    "\n",
    "df = pd.read_csv(\"../../datasets/FICO/heloc_dataset_v1.csv\")"
   ]
  },
  {
   "cell_type": "markdown",
   "metadata": {},
   "source": [
    "## XGBoost\n",
    "\n",
    "### Load model"
   ]
  },
  {
   "cell_type": "code",
   "execution_count": 3,
   "metadata": {},
   "outputs": [],
   "source": [
    "from xgboost.sklearn import XGBClassifier\n",
    "\n",
    "model = XGBClassifier()"
   ]
  },
  {
   "cell_type": "code",
   "execution_count": 4,
   "metadata": {},
   "outputs": [],
   "source": [
    "model.load_model(\"../../models/xgboost.json\")"
   ]
  },
  {
   "cell_type": "markdown",
   "metadata": {},
   "source": [
    "### Standard counterfactuals"
   ]
  },
  {
   "cell_type": "code",
   "execution_count": 5,
   "metadata": {},
   "outputs": [],
   "source": [
    "from alibi.explainers import Counterfactual"
   ]
  },
  {
   "cell_type": "code",
   "execution_count": 6,
   "metadata": {},
   "outputs": [],
   "source": [
    "shape = (1, 23)"
   ]
  },
  {
   "cell_type": "code",
   "execution_count": 7,
   "metadata": {},
   "outputs": [],
   "source": [
    "predict_fn = lambda x: model.predict_proba(x)"
   ]
  },
  {
   "cell_type": "code",
   "execution_count": 8,
   "metadata": {},
   "outputs": [
    {
     "name": "stdout",
     "output_type": "stream",
     "text": [
      "WARNING:tensorflow:From /Users/rui/.virtualenvs/experiments-alibi/lib/python3.7/site-packages/tensorflow/python/compat/v2_compat.py:111: disable_resource_variables (from tensorflow.python.ops.variable_scope) is deprecated and will be removed in a future version.\n",
      "Instructions for updating:\n",
      "non-resource variables are not supported in the long term\n"
     ]
    }
   ],
   "source": [
    "import tensorflow as tf\n",
    "\n",
    "tf.keras.backend.clear_session()\n",
    "tf.compat.v1.disable_eager_execution()\n",
    "tf.compat.v1.disable_v2_behavior()"
   ]
  },
  {
   "cell_type": "code",
   "execution_count": 9,
   "metadata": {},
   "outputs": [],
   "source": [
    "def build_cf(pfn):\n",
    "    _cf = Counterfactual(\n",
    "        pfn,\n",
    "        shape,\n",
    "        distance_fn=\"l1\",\n",
    "        target_proba=0.5,\n",
    "        target_class=\"other\",\n",
    "        max_iter=100,\n",
    "        early_stop=100,\n",
    "        lam_init=1e-3,\n",
    "        max_lam_steps=100,\n",
    "        tol=0.25,\n",
    "        learning_rate_init=0.1,\n",
    "        feature_range=(-20, 1000),\n",
    "        eps=0.5,\n",
    "        init=\"identity\",\n",
    "        decay=True,\n",
    "        write_dir=None,\n",
    "        debug=False)\n",
    "    return _cf"
   ]
  },
  {
   "cell_type": "code",
   "execution_count": 10,
   "metadata": {},
   "outputs": [
    {
     "name": "stdout",
     "output_type": "stream",
     "text": [
      "WARNING:tensorflow:From /Users/rui/.virtualenvs/experiments-alibi/lib/python3.7/site-packages/alibi/explainers/counterfactual.py:170: The name tf.keras.backend.get_session is deprecated. Please use tf.compat.v1.keras.backend.get_session instead.\n",
      "\n"
     ]
    },
    {
     "name": "stderr",
     "output_type": "stream",
     "text": [
      "2022-04-04 10:11:33.506309: I tensorflow/core/platform/cpu_feature_guard.cc:151] This TensorFlow binary is optimized with oneAPI Deep Neural Network Library (oneDNN) to use the following CPU instructions in performance-critical operations:  AVX2 FMA\n",
      "To enable them in other operations, rebuild TensorFlow with the appropriate compiler flags.\n"
     ]
    }
   ],
   "source": [
    "cf = build_cf(predict_fn)"
   ]
  },
  {
   "cell_type": "code",
   "execution_count": 11,
   "metadata": {},
   "outputs": [],
   "source": [
    "import utils\n",
    "\n",
    "datapoints = pd.read_csv(\"../../datasets/datapoints.csv\")"
   ]
  },
  {
   "cell_type": "markdown",
   "metadata": {},
   "source": [
    "### Store results"
   ]
  },
  {
   "cell_type": "code",
   "execution_count": 12,
   "metadata": {},
   "outputs": [],
   "source": [
    "def create_result_df(_explanation, model: str):\n",
    "    N_cf = len(_explanation['data']['all'][0])\n",
    "    schema = utils.get_result_schema()\n",
    "    v = [[] for i in range(23)]\n",
    "    o = [[] for i in range(23)]\n",
    "    goalValue = []\n",
    "    goalScore = []\n",
    "    for i in range(N_cf):\n",
    "        ccf = _explanation['data']['all'][0][i]\n",
    "        values = ccf['X'].tolist()[0]\n",
    "        goalValue.append(ccf['class'])\n",
    "        goalScore.append(ccf['proba'].tolist()[0][1])\n",
    "        for j in range(23):\n",
    "            v[j].append(values[j])\n",
    "            o[j].append(X[0][j])\n",
    "\n",
    "    d = {e[0]: e[1] for e in zip(schema[23:-4], v)}\n",
    "    od = {e[0]: e[1] for e in zip(schema[:23], o)}\n",
    "    goal = {\"GoalValue\": goalValue, \"GoalScore\": goalScore, \"GoalName\": [\"RiskPerformance\"] * N_cf}\n",
    "    method = [\"Alibi-Standard\"] * N_cf\n",
    "\n",
    "    return utils.save_result(original=od, cf=d, score=goal, method=method, model=model)"
   ]
  },
  {
   "cell_type": "code",
   "execution_count": null,
   "metadata": {},
   "outputs": [],
   "source": [
    "counterfactuals = []\n",
    "for i in range(10):\n",
    "    print(f\"Running counterfactual search #{i}\")\n",
    "    X = datapoints.iloc[i].to_numpy().reshape(1, -1)\n",
    "    explanation = cf.explain(X)\n",
    "    result = create_result_df(explanation, \"XGBoost\")\n",
    "    counterfactuals.append(result)"
   ]
  },
  {
   "cell_type": "code",
   "execution_count": null,
   "metadata": {},
   "outputs": [],
   "source": [
    "xgboost_final = pd.concat(counterfactuals)"
   ]
  },
  {
   "cell_type": "code",
   "execution_count": null,
   "metadata": {},
   "outputs": [],
   "source": [
    "xgboost_final"
   ]
  },
  {
   "cell_type": "markdown",
   "metadata": {},
   "source": [
    "## MLP"
   ]
  },
  {
   "cell_type": "markdown",
   "metadata": {},
   "source": [
    "## Load model"
   ]
  },
  {
   "cell_type": "code",
   "execution_count": null,
   "metadata": {},
   "outputs": [],
   "source": [
    "from joblib import load\n",
    "\n",
    "mlp_model = load('../../models/mlp.joblib') "
   ]
  },
  {
   "cell_type": "code",
   "execution_count": null,
   "metadata": {},
   "outputs": [],
   "source": [
    "mlp_predict_fn = lambda x: mlp_model.predict_proba(x)"
   ]
  },
  {
   "cell_type": "code",
   "execution_count": null,
   "metadata": {},
   "outputs": [],
   "source": [
    "tf.keras.backend.clear_session()\n",
    "tf.compat.v1.disable_eager_execution()\n",
    "tf.compat.v1.disable_v2_behavior()"
   ]
  },
  {
   "cell_type": "code",
   "execution_count": null,
   "metadata": {},
   "outputs": [],
   "source": [
    "mlp_cf = build_cf(mlp_predict_fn)"
   ]
  },
  {
   "cell_type": "code",
   "execution_count": null,
   "metadata": {},
   "outputs": [],
   "source": [
    "counterfactuals = []\n",
    "for i in range(10):\n",
    "    print(f\"Running counterfactual search #{i}\")\n",
    "    X = datapoints.iloc[i].to_numpy().reshape(1, -1)\n",
    "    explanation = mlp_cf.explain(X)\n",
    "    result = create_result_df(explanation, \"MLP\")\n",
    "    counterfactuals.append(result)"
   ]
  },
  {
   "cell_type": "code",
   "execution_count": null,
   "metadata": {},
   "outputs": [],
   "source": [
    "mlp_final = pd.concat(counterfactuals)"
   ]
  },
  {
   "cell_type": "code",
   "execution_count": null,
   "metadata": {},
   "outputs": [],
   "source": [
    "final_df = pd.concat([xgboost_final, mlp_final])"
   ]
  },
  {
   "cell_type": "code",
   "execution_count": null,
   "metadata": {},
   "outputs": [],
   "source": [
    "final_df.to_csv(\"../../results/cf-alibi.csv\")"
   ]
  },
  {
   "cell_type": "code",
   "execution_count": null,
   "metadata": {},
   "outputs": [],
   "source": []
  }
 ],
 "metadata": {
  "kernelspec": {
   "display_name": "experiments-alibi",
   "language": "python",
   "name": "experiments-alibi"
  },
  "language_info": {
   "codemirror_mode": {
    "name": "ipython",
    "version": 3
   },
   "file_extension": ".py",
   "mimetype": "text/x-python",
   "name": "python",
   "nbconvert_exporter": "python",
   "pygments_lexer": "ipython3",
   "version": "3.7.12"
  }
 },
 "nbformat": 4,
 "nbformat_minor": 4
}
